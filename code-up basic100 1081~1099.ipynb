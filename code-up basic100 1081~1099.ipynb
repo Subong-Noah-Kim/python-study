{
 "cells": [
  {
   "cell_type": "code",
   "execution_count": 2,
   "metadata": {},
   "outputs": [
    {
     "name": "stdin",
     "output_type": "stream",
     "text": [
      " 2 3\n"
     ]
    },
    {
     "name": "stdout",
     "output_type": "stream",
     "text": [
      "1 1\n",
      "1 2\n",
      "1 3\n",
      "2 1\n",
      "2 2\n",
      "2 3\n"
     ]
    }
   ],
   "source": [
    "# codeup 1081\n",
    "a,b = input().split()\n",
    "for i in range(int(a)):\n",
    "    for j in range(int(b)):\n",
    "        print(i+1, j+1)"
   ]
  },
  {
   "cell_type": "code",
   "execution_count": 11,
   "metadata": {},
   "outputs": [
    {
     "name": "stdin",
     "output_type": "stream",
     "text": [
      " b\n"
     ]
    },
    {
     "name": "stdout",
     "output_type": "stream",
     "text": [
      "B*1=B\n",
      "B*2=16\n",
      "B*3=21\n",
      "B*4=2C\n",
      "B*5=37\n",
      "B*6=42\n",
      "B*7=4D\n",
      "B*8=58\n",
      "B*9=63\n",
      "B*A=6E\n",
      "B*B=79\n",
      "B*C=84\n",
      "B*D=8F\n",
      "B*E=9A\n",
      "B*F=A5\n"
     ]
    }
   ],
   "source": [
    "# codeup 1082\n",
    "a = int(input(),16)\n",
    "\n",
    "for i in range(1,16):\n",
    "    print(format(a, 'X'), '*', format(i,'X'), '=', format(a*i, 'X'),sep='')\n",
    "    "
   ]
  },
  {
   "cell_type": "code",
   "execution_count": 15,
   "metadata": {},
   "outputs": [
    {
     "name": "stdin",
     "output_type": "stream",
     "text": [
      " 2\n"
     ]
    },
    {
     "name": "stdout",
     "output_type": "stream",
     "text": [
      "1 2 "
     ]
    }
   ],
   "source": [
    "# codeup 1083\n",
    "a = int(input())\n",
    "for i in range(1,a+1):\n",
    "    if i%3 == 0:\n",
    "        print('X', end=' ')\n",
    "    else:\n",
    "        print(i, end=' ')"
   ]
  },
  {
   "cell_type": "code",
   "execution_count": 19,
   "metadata": {},
   "outputs": [
    {
     "name": "stdin",
     "output_type": "stream",
     "text": [
      " 2 2 2\n"
     ]
    },
    {
     "name": "stdout",
     "output_type": "stream",
     "text": [
      "0 0 0\n",
      "0 0 1\n",
      "0 1 0\n",
      "0 1 1\n",
      "1 0 0\n",
      "1 0 1\n",
      "1 1 0\n",
      "1 1 1\n",
      "8\n"
     ]
    }
   ],
   "source": [
    "# codeup 1084\n",
    "a,b,c = input().split()\n",
    "for i in range(int(a)):\n",
    "    for j in range(int(b)):\n",
    "        for k in range(int(c)):\n",
    "            print(i, j, k)\n",
    "print( int(a) * int(b) * int(c) )"
   ]
  },
  {
   "cell_type": "code",
   "execution_count": 24,
   "metadata": {},
   "outputs": [
    {
     "name": "stdin",
     "output_type": "stream",
     "text": [
      " 44100 16 2 10\n"
     ]
    },
    {
     "name": "stdout",
     "output_type": "stream",
     "text": [
      "1.7 MB\n"
     ]
    }
   ],
   "source": [
    "# codeup 1085\n",
    "h,b,c,s = input().split()\n",
    "res = int(h) * int(b) * int(c) * int(s)\n",
    "print( round(res/(2**20)/8,1), 'MB')"
   ]
  },
  {
   "cell_type": "code",
   "execution_count": 30,
   "metadata": {},
   "outputs": [
    {
     "name": "stdin",
     "output_type": "stream",
     "text": [
      " 1024 768 24\n"
     ]
    },
    {
     "name": "stdout",
     "output_type": "stream",
     "text": [
      "2.25 MB\n"
     ]
    }
   ],
   "source": [
    "# codeup 1086\n",
    "r,g,b = input().split()\n",
    "print('%.2f'  % round((int(r) * int(g) * int(b))/8/(2**20),2),'MB')"
   ]
  },
  {
   "cell_type": "code",
   "execution_count": 36,
   "metadata": {},
   "outputs": [
    {
     "name": "stdin",
     "output_type": "stream",
     "text": [
      " 57\n"
     ]
    },
    {
     "name": "stdout",
     "output_type": "stream",
     "text": [
      "66\n"
     ]
    }
   ],
   "source": [
    "# codeup 1087\n",
    "a = int(input())\n",
    "b = 0\n",
    "for i in range(1,a+1):\n",
    "    b = b + i\n",
    "    if b >= a:\n",
    "        print(b)\n",
    "        break"
   ]
  },
  {
   "cell_type": "code",
   "execution_count": 2,
   "metadata": {},
   "outputs": [
    {
     "name": "stdin",
     "output_type": "stream",
     "text": [
      " 10\n"
     ]
    },
    {
     "name": "stdout",
     "output_type": "stream",
     "text": [
      "1 2 4 5 7 8 10 "
     ]
    }
   ],
   "source": [
    "# codeup 1088\n",
    "a = int(input())\n",
    "for i in range(1, a+1):\n",
    "    if i % 3 != 0:\n",
    "        print(i, end=' ')"
   ]
  },
  {
   "cell_type": "code",
   "execution_count": 3,
   "metadata": {},
   "outputs": [
    {
     "name": "stdin",
     "output_type": "stream",
     "text": [
      " 1 3 5\n"
     ]
    },
    {
     "name": "stdout",
     "output_type": "stream",
     "text": [
      "13\n"
     ]
    }
   ],
   "source": [
    "# codeup 1089\n",
    "a,b,c = input().split()\n",
    "z = int(a) + int(b) * (int(c)-1)\n",
    "print(z)"
   ]
  },
  {
   "cell_type": "code",
   "execution_count": 4,
   "metadata": {},
   "outputs": [
    {
     "name": "stdin",
     "output_type": "stream",
     "text": [
      " 2 3 7\n"
     ]
    },
    {
     "name": "stdout",
     "output_type": "stream",
     "text": [
      "1458\n"
     ]
    }
   ],
   "source": [
    "# codeup 1090\n",
    "a,r,n=input().split()\n",
    "z = int(a) * (int(r) ** (int(n)-1))\n",
    "print(z)"
   ]
  },
  {
   "cell_type": "code",
   "execution_count": 5,
   "metadata": {},
   "outputs": [
    {
     "name": "stdin",
     "output_type": "stream",
     "text": [
      " 1 -2 1 8\n"
     ]
    },
    {
     "name": "stdout",
     "output_type": "stream",
     "text": [
      "-85\n"
     ]
    }
   ],
   "source": [
    "# codeup 1091\n",
    "a,m,d,n = input().split()\n",
    "\n",
    "A = int(a)\n",
    "M = int(m)\n",
    "D = int(d)\n",
    "N = int(n)\n",
    "\n",
    "for i in range(1,N):\n",
    "    A = A * M + D\n",
    "\n",
    "print(A)"
   ]
  },
  {
   "cell_type": "code",
   "execution_count": 9,
   "metadata": {},
   "outputs": [
    {
     "name": "stdin",
     "output_type": "stream",
     "text": [
      " 3 7 9\n"
     ]
    },
    {
     "name": "stdout",
     "output_type": "stream",
     "text": [
      "63\n"
     ]
    }
   ],
   "source": [
    "# codeup 1092\n",
    "a,b,c = input().split()\n",
    "A = int(a)\n",
    "B = int(b)\n",
    "C = int(c)\n",
    "day=1\n",
    "while day%A != 0 or day%B != 0 or day%C != 0:\n",
    "    day = day+1\n",
    "print(day)"
   ]
  },
  {
   "cell_type": "code",
   "execution_count": 34,
   "metadata": {},
   "outputs": [
    {
     "name": "stdin",
     "output_type": "stream",
     "text": [
      " 10\n",
      " 1 3 2 2 5 6 7 4 5 9 # \n"
     ]
    },
    {
     "name": "stdout",
     "output_type": "stream",
     "text": [
      "1 2 1 1 2 1 1 0 1 0 0 0 0 0 0 0 0 0 0 0 0 0 0 "
     ]
    }
   ],
   "source": [
    "# codeup 1093\n",
    "n = int(input())\n",
    "a = input().split()\n",
    "N = 23\n",
    "b= [0 for _ in range(N)]\n",
    "\n",
    "for i in range(N+1):\n",
    "    for j in range(n):\n",
    "#        print(i, j, a[j], i == int(a[j]))\n",
    "        if int(a[j]) == (i+1):\n",
    "            # print(i,j)\n",
    "            b[i] = b[i] + 1\n",
    "            # print(b[i])\n",
    "for k in range(N):\n",
    "    print(b[k], end = ' ')"
   ]
  },
  {
   "cell_type": "code",
   "execution_count": 37,
   "metadata": {},
   "outputs": [
    {
     "name": "stdin",
     "output_type": "stream",
     "text": [
      " 10\n",
      " 10 4 2 3 6 6 7 9 8 5\n"
     ]
    },
    {
     "name": "stdout",
     "output_type": "stream",
     "text": [
      "5 8 9 7 6 6 3 2 4 10 "
     ]
    }
   ],
   "source": [
    "# codeup 1094\n",
    "n = int(input())\n",
    "a = input().split()\n",
    "\n",
    "b= [0 for _ in range(n)]\n",
    "for i in range(n): \n",
    "    b[i] = a[n-i-1]\n",
    "for k in range(n):\n",
    "    print(b[k], end = ' ')"
   ]
  },
  {
   "cell_type": "code",
   "execution_count": 38,
   "metadata": {},
   "outputs": [
    {
     "name": "stdin",
     "output_type": "stream",
     "text": [
      " 10\n",
      " 10 4 2 3 6 6 7 9 8 5\n"
     ]
    },
    {
     "name": "stdout",
     "output_type": "stream",
     "text": [
      "2\n"
     ]
    }
   ],
   "source": [
    "# codeup 1095\n",
    "n = int(input())\n",
    "a = input().split()\n",
    "b = a[0]\n",
    "\n",
    "for i in range(n): \n",
    "     if int(b) > int(a[i]):\n",
    "            b = a[i]\n",
    "print(b)"
   ]
  },
  {
   "cell_type": "code",
   "execution_count": 67,
   "metadata": {},
   "outputs": [
    {
     "name": "stdin",
     "output_type": "stream",
     "text": [
      " 5\n",
      " 1 1\n",
      " 2 2\n",
      " 3 3\n",
      " 4 4\n",
      " 5 5\n"
     ]
    },
    {
     "name": "stdout",
     "output_type": "stream",
     "text": [
      "1 0 0 0 0 0 0 0 0 0 0 0 0 0 0 0 0 0 0 \n",
      "0 1 0 0 0 0 0 0 0 0 0 0 0 0 0 0 0 0 0 \n",
      "0 0 1 0 0 0 0 0 0 0 0 0 0 0 0 0 0 0 0 \n",
      "0 0 0 1 0 0 0 0 0 0 0 0 0 0 0 0 0 0 0 \n",
      "0 0 0 0 1 0 0 0 0 0 0 0 0 0 0 0 0 0 0 \n",
      "0 0 0 0 0 0 0 0 0 0 0 0 0 0 0 0 0 0 0 \n",
      "0 0 0 0 0 0 0 0 0 0 0 0 0 0 0 0 0 0 0 \n",
      "0 0 0 0 0 0 0 0 0 0 0 0 0 0 0 0 0 0 0 \n",
      "0 0 0 0 0 0 0 0 0 0 0 0 0 0 0 0 0 0 0 \n",
      "0 0 0 0 0 0 0 0 0 0 0 0 0 0 0 0 0 0 0 \n",
      "0 0 0 0 0 0 0 0 0 0 0 0 0 0 0 0 0 0 0 \n",
      "0 0 0 0 0 0 0 0 0 0 0 0 0 0 0 0 0 0 0 \n",
      "0 0 0 0 0 0 0 0 0 0 0 0 0 0 0 0 0 0 0 \n",
      "0 0 0 0 0 0 0 0 0 0 0 0 0 0 0 0 0 0 0 \n",
      "0 0 0 0 0 0 0 0 0 0 0 0 0 0 0 0 0 0 0 \n",
      "0 0 0 0 0 0 0 0 0 0 0 0 0 0 0 0 0 0 0 \n",
      "0 0 0 0 0 0 0 0 0 0 0 0 0 0 0 0 0 0 0 \n",
      "0 0 0 0 0 0 0 0 0 0 0 0 0 0 0 0 0 0 0 \n",
      "0 0 0 0 0 0 0 0 0 0 0 0 0 0 0 0 0 0 0 \n"
     ]
    }
   ],
   "source": [
    "## codeup 1096\n",
    "n = int(input())\n",
    "a = [0 for _ in range(n)]\n",
    "for i in range(n):\n",
    "    a[i] = input().split()\n",
    "\n",
    "arr = []\n",
    "for i in range(19):\n",
    "    arr.append([0 for _ in range(19)])\n",
    "\n",
    "for k in a:\n",
    "    arr[int(k[0])-1][int(k[1])-1] = 1\n",
    " \n",
    "for i in range(19):\n",
    "    for j in range(19):\n",
    "        print(arr[i][j], end=' ')\n",
    "    print()\n"
   ]
  },
  {
   "cell_type": "code",
   "execution_count": 118,
   "metadata": {},
   "outputs": [
    {
     "name": "stdin",
     "output_type": "stream",
     "text": [
      " 2\n",
      " 10 10\n",
      " 12 12\n"
     ]
    },
    {
     "name": "stdout",
     "output_type": "stream",
     "text": [
      "[['10', '10'], ['12', '12']]\n"
     ]
    }
   ],
   "source": [
    "#  codeup 1097\n",
    "n = 19\n",
    "a = [0 for _ in range(n)]\n",
    "for i in range(len(a)):\n",
    "    a[i] = input().split()\n",
    "    \n",
    "m = int(input())\n",
    "b = [0 for _ in range(m)]\n",
    "for i in range(m):\n",
    "    b[i] = input().split()\n",
    "\n",
    "for bb in b:\n",
    "    for i in range(19):\n",
    "        a[int(bb[0])-1][i] = abs(int(a[int(bb[0])-1][i])-1)\n",
    "    for j in range(len(a)):\n",
    "        a[j][int(bb[1])-1] = abs(int(a[j][int(bb[1])-1])-1)\n",
    "\n",
    "for i in range(len(a)):\n",
    "    for j in range(19):\n",
    "        print(a[i][j], end=' ')\n",
    "    print()"
   ]
  },
  {
   "cell_type": "code",
   "execution_count": null,
   "metadata": {},
   "outputs": [],
   "source": [
    "# codeup 1098\n",
    "x1 = input() # '5 5'\n",
    "x1 = x1.split()\n",
    "h = int(x1[0])\n",
    "w = int(x1[1])\n",
    "\n",
    "x2 = input() # '3'\n",
    "n = int(x2)\n",
    "\n",
    "x = [0 for _ in range(n)]\n",
    "for i in range(n):\n",
    "    x[i] = input().split()\n",
    "\n",
    "arr1 = []    \n",
    "for p in range(n):\n",
    "    l = int(x[p][0])\n",
    "    d = int(x[p][1])\n",
    "    x = int(x[p][2])\n",
    "    y = int(x[p][3])\n",
    "\n",
    "    arr = []\n",
    "    for j in range(5):\n",
    "        arr = []\n",
    "        for i in range(w):\n",
    "            arr.append(0)\n",
    "        arr1.append(arr)\n",
    "\n",
    "    if d == 0:\n",
    "        for i in range(y,y+l):\n",
    "            arr1[x-1][i-1] = 1\n",
    "    elif d == 1:\n",
    "        for j in range(x,x+l):\n",
    "            arr1[j-1][y-1] = 1\n",
    "\n",
    "for H in range(h):\n",
    "    for W in range(w):\n",
    "        print(arr1[H][W], end=' ')\n",
    "    print()"
   ]
  },
  {
   "cell_type": "code",
   "execution_count": 6,
   "metadata": {},
   "outputs": [
    {
     "name": "stdin",
     "output_type": "stream",
     "text": [
      " 5 5\n",
      " 3\n",
      " 2 0 1 1\n",
      " 3 1 2 3\n",
      " 4 1 2 5\n"
     ]
    },
    {
     "name": "stdout",
     "output_type": "stream",
     "text": [
      "1 1 0 0 0 \n",
      "0 0 1 0 1 \n",
      "0 0 1 0 1 \n",
      "0 0 1 0 1 \n",
      "0 0 0 0 1 \n"
     ]
    }
   ],
   "source": [
    "# codeup 1098\n",
    "x1 = input() # '5 5'\n",
    "x1 = x1.split()\n",
    "h = int(x1[0])\n",
    "w = int(x1[1])\n",
    "\n",
    "x2 = input() # '3'\n",
    "n = int(x2)\n",
    "\n",
    "c = [0 for _ in range(n)]\n",
    "for i in range(n):\n",
    "    c[i] = input().split()\n",
    "\n",
    "arr1 = []    \n",
    "for p in range(n):\n",
    "    l = int(c[p][0])\n",
    "    d = int(c[p][1])\n",
    "    x = int(c[p][2])\n",
    "    y = int(c[p][3])\n",
    "\n",
    "    arr = []\n",
    "    for j in range(h):\n",
    "        arr = []\n",
    "        for i in range(w):\n",
    "            arr.append(0)\n",
    "        arr1.append(arr)\n",
    "\n",
    "    if d == 0:\n",
    "        for i in range(y,y+l):\n",
    "            arr1[x-1][i-1] = 1\n",
    "    elif d == 1:\n",
    "        for j in range(x,x+l):\n",
    "            arr1[j-1][y-1] = 1\n",
    "\n",
    "for H in range(h):\n",
    "    for W in range(w):\n",
    "        print(arr1[H][W], end=' ')\n",
    "    print()"
   ]
  },
  {
   "cell_type": "code",
   "execution_count": null,
   "metadata": {},
   "outputs": [],
   "source": [
    "# codeup 1099\n",
    "n = 10\n",
    "a = []\n",
    "for i in range(n):\n",
    "    a.append(0)\n",
    "for i in range(n):\n",
    "    a[i] = input().split()    \n",
    "\n",
    "# a = '1 1 1 1 1 1 1 1 1 1,1 0 0 1 0 0 0 0 0 1,1 0 0 1 1 1 0 0 0 1,1 0 0 0 0 0 0 1 0 1,1 0 0 0 0 0 0 1 0 1,1 0 0 0 0 1 0 1 0 1,1 0 0 0 0 1 2 1 0 1,1 0 0 0 0 1 0 0 0 1,1 0 0 0 0 0 0 0 0 1,1 1 1 1 1 1 1 1 1 1'\n",
    "# a = a.split(',')\n",
    "# for i in range(10):\n",
    "#     a[i] = a[i].split()\n",
    "    \n",
    "    \n",
    "i = 1\n",
    "j = 1\n",
    "for k in range(100):\n",
    "    if int(a[i][j]) == 2:\n",
    "        a[i][j] = 9\n",
    "        break\n",
    "    elif int(a[i][j+1])!=1 :\n",
    "        a[i][j] = 9\n",
    "        j = j+1\n",
    "    elif int(a[i+1][j]) != 1:\n",
    "#     elif int(a[i+1][j]) == 0:\n",
    "        a[i][j] = 9\n",
    "        i = i+1\n",
    "#     elif int(a[i][j+1]) == 2:\n",
    "#         a[i][j] = 9\n",
    "#         a[i][j+1] = 9\n",
    "#         break\n",
    "#     elif int(a[i+1][j]) == 2:\n",
    "#         a[i][j] = 9\n",
    "#         a[i+1][j] = 9\n",
    "#         break\n",
    "    else:\n",
    "        a[i][j] = 9\n",
    "        break\n",
    "\n",
    "for i in a:\n",
    "    for j in range(0,10):\n",
    "        print(i[j], end= ' ')\n",
    "    print()\n",
    "    \n",
    "# 아래 모범답안을 수용할 필요가 있는듯\n",
    "        \n",
    "m=[]\n",
    "for i in range(12) :\n",
    "    m.append([])\n",
    "    for j in range(12) :\n",
    "        m[i].append(0)\n",
    "\n",
    "for i in range(10) :\n",
    "    a=input().split()\n",
    "    for j in range(10) :\n",
    "        m[i+1][j+1]=int(a[j])\n",
    "\n",
    "x=2\n",
    "y=2\n",
    "while True :\n",
    "    if m[x][y]==0 :\n",
    "        m[x][y]=9\n",
    "    elif m[x][y]==2 :\n",
    "        m[x][y]=9\n",
    "        break\n",
    "\n",
    "    if (m[x][y+1]==1 and m[x+1][y]==1) or (x==9 and y==9) :\n",
    "        break\n",
    "\n",
    "    if m[x][y+1]!=1 :\n",
    "        y+=1\n",
    "    elif m[x+1][y]!=1 :\n",
    "        x+=1\n",
    "    \n",
    "\n",
    "for i in range(1, 11) :\n",
    "    for j in range(1, 11) :\n",
    "        print(m[i][j], end=' ')\n",
    "    print()"
   ]
  },
  {
   "cell_type": "code",
   "execution_count": null,
   "metadata": {},
   "outputs": [],
   "source": []
  }
 ],
 "metadata": {
  "kernelspec": {
   "display_name": "Python 3",
   "language": "python",
   "name": "python3"
  },
  "language_info": {
   "codemirror_mode": {
    "name": "ipython",
    "version": 3
   },
   "file_extension": ".py",
   "mimetype": "text/x-python",
   "name": "python",
   "nbconvert_exporter": "python",
   "pygments_lexer": "ipython3",
   "version": "3.7.3"
  }
 },
 "nbformat": 4,
 "nbformat_minor": 4
}
