{
 "cells": [
  {
   "cell_type": "code",
   "execution_count": 22,
   "metadata": {},
   "outputs": [
    {
     "name": "stdout",
     "output_type": "stream",
     "text": [
      "[[3, 4], [1, 1], [1, -1], [2, 2], [3, 3]]\n",
      "[[1, -1], [1, 1], [2, 2], [3, 3], [3, 4]]\n"
     ]
    }
   ],
   "source": [
    "n = int(input())\n",
    "a = [list(map(int,input().split(' '))) for i in range(n)]\n",
    "# a = [list(map(int,i.split(' '))) for i in a]\n",
    "a.sort(key = lambda x: (x[0],x[1]))\n",
    "for i in a:\n",
    "    print(i[0],i[1])"
   ]
  },
  {
   "cell_type": "markdown",
   "metadata": {},
   "source": [
    "for문으로 Brute Force하면 시간초과되었음.\n",
    "함수에 동시에 여러인자를 활용하게 해주는 lambda 활용\n",
    "\n",
    "참고 : https://dailyheumsi.tistory.com/67"
   ]
  }
 ],
 "metadata": {
  "kernelspec": {
   "display_name": "Python 3",
   "language": "python",
   "name": "python3"
  },
  "language_info": {
   "codemirror_mode": {
    "name": "ipython",
    "version": 3
   },
   "file_extension": ".py",
   "mimetype": "text/x-python",
   "name": "python",
   "nbconvert_exporter": "python",
   "pygments_lexer": "ipython3",
   "version": "3.7.3"
  }
 },
 "nbformat": 4,
 "nbformat_minor": 2
}
