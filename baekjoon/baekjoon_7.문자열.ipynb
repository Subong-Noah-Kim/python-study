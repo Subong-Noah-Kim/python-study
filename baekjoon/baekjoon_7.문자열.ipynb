{
 "cells": [
  {
   "cell_type": "code",
   "execution_count": 4,
   "metadata": {},
   "outputs": [
    {
     "name": "stdout",
     "output_type": "stream",
     "text": [
      "A\n",
      "65\n"
     ]
    }
   ],
   "source": [
    "# 1. 아스키코드 (11654번)\n",
    "a = input()\n",
    "print(ord(a))"
   ]
  },
  {
   "cell_type": "code",
   "execution_count": 7,
   "metadata": {
    "scrolled": true
   },
   "outputs": [
    {
     "name": "stdout",
     "output_type": "stream",
     "text": [
      "5\n",
      "12345\n",
      "15\n"
     ]
    }
   ],
   "source": [
    "# 2. 숫자의 합 (11720번)\n",
    "N = int(input())\n",
    "a = input()\n",
    "each = [i for i in a]\n",
    "each = list(map(int,each))\n",
    "print(sum(each))"
   ]
  },
  {
   "cell_type": "code",
   "execution_count": 38,
   "metadata": {},
   "outputs": [
    {
     "name": "stdout",
     "output_type": "stream",
     "text": [
      "baekjoon\n",
      "1 0 -1 -1 2 -1 -1 -1 -1 4 3 -1 -1 7 5 -1 -1 -1 -1 -1 -1 -1 -1 -1 -1 -1 "
     ]
    }
   ],
   "source": [
    "# 3. 알파벳 찾기 (10809번)\n",
    "\n",
    "## input values\n",
    "apb = [chr(i) for i in range(97,123)] # 아스키코드 a-z\n",
    "S = input()\n",
    "ans = []\n",
    "\n",
    "## program\n",
    "for i in range(len(apb)):\n",
    "    j = 0\n",
    "    while apb[i] != S[j]:\n",
    "        j = j+1\n",
    "        if j == len(S):\n",
    "            break\n",
    "    if j == len(S):\n",
    "        ans.append(-1)\n",
    "    else:\n",
    "        ans.append(j)\n",
    "\n",
    "## answer printing\n",
    "for ea in ans:\n",
    "    print(ea, end=' ')        "
   ]
  },
  {
   "cell_type": "code",
   "execution_count": 42,
   "metadata": {},
   "outputs": [
    {
     "name": "stdout",
     "output_type": "stream",
     "text": [
      "2\n",
      "3 ABC\n",
      "AAABBBCCC\n",
      "5 /HTP\n",
      "/////HHHHHTTTTTPPPPP\n"
     ]
    }
   ],
   "source": [
    "# 4. 문자열 반복 (2675번)\n",
    "\n",
    "T = int(input())\n",
    "for t in range(T):\n",
    "    RS = input().split()\n",
    "    R = int(RS[0])\n",
    "    S = RS[1]\n",
    "    res2 = []\n",
    "    for s in S:\n",
    "        res1 = []\n",
    "        for r in range(R):\n",
    "            res1.append(s)\n",
    "        res1 = \"\".join(res1)\n",
    "        res2.append(res1)\n",
    "    res2 = \"\".join(res2)\n",
    "    print(res2)"
   ]
  },
  {
   "cell_type": "code",
   "execution_count": 75,
   "metadata": {},
   "outputs": [
    {
     "name": "stdout",
     "output_type": "stream",
     "text": [
      "Mississipi\n",
      "?\n"
     ]
    }
   ],
   "source": [
    "# 5. 단어 공부 (1157번)\n",
    "word  = input().upper() # 문자열대문자로\n",
    "\n",
    "word1 = [word[i] for i in range(len(word))]\n",
    "ref = list(set(word1))\n",
    "res = []\n",
    "for r in ref:\n",
    "    count = 0\n",
    "    for w in word1:\n",
    "        if r == w:\n",
    "            count = count + 1\n",
    "    res.append(count)\n",
    "\n",
    "idx = []\n",
    "dup = 0\n",
    "for i in range(len(res)):\n",
    "    if res[i] == max(res):\n",
    "        dup = dup + 1\n",
    "        idx.append(i)\n",
    "\n",
    "if dup > 1:\n",
    "    print('?')\n",
    "elif dup == 1:\n",
    "    print(ref[idx[0]])"
   ]
  },
  {
   "cell_type": "code",
   "execution_count": 94,
   "metadata": {},
   "outputs": [
    {
     "name": "stdout",
     "output_type": "stream",
     "text": [
      "Teullinika Teullyeotzi \n",
      "2\n"
     ]
    }
   ],
   "source": [
    "# 6. 단어의 개수 (1152번)\n",
    "a = input().split(\" \")\n",
    "for i in range(len(a)):\n",
    "    if a[i] == '':\n",
    "        del a[i]  ## 앞에 공백이 있어서 '' 문자열이 하나 생기는 경우\n",
    "        break\n",
    "for i in range(len(a)):\n",
    "    if a[i] == '':\n",
    "        del a[i]  ## 뒤에 공백이 있어서 '' 문자열이 하나 생기는 경우\n",
    "        break        \n",
    "print(len(a))"
   ]
  },
  {
   "cell_type": "code",
   "execution_count": 22,
   "metadata": {},
   "outputs": [
    {
     "name": "stdout",
     "output_type": "stream",
     "text": [
      "734 893\n",
      "437\n"
     ]
    }
   ],
   "source": [
    "# 7. 상수 (2908번)\n",
    "a,b = input().split()\n",
    "\n",
    "def rev(a):\n",
    "    a = [int(i) for i in a]\n",
    "    new_a = 0\n",
    "    for i in range(len(a)):\n",
    "        new_a = new_a + a[len(a)-1-i] * 10**(len(a)-1-i)\n",
    "    return new_a\n",
    "\n",
    "if rev(a) == rev(b):\n",
    "    print(\"error\")\n",
    "elif rev(a) > rev(b):\n",
    "    print(rev(a))\n",
    "else:\n",
    "    print(rev(b))"
   ]
  },
  {
   "cell_type": "code",
   "execution_count": 46,
   "metadata": {},
   "outputs": [
    {
     "name": "stdout",
     "output_type": "stream",
     "text": [
      "UNUCIC\n",
      "['U', 'N', 'U', 'C', 'I', 'C']\n",
      "[8, 6, 8, 2, 4, 2]\n",
      "36\n"
     ]
    }
   ],
   "source": [
    "# 8. 다이얼 (5622번)\n",
    "C = input()\n",
    "C = [c for c in C]\n",
    "\n",
    "d = []\n",
    "for c in C:\n",
    "    i = ord(c)\n",
    "    if i >= 65 and i < 80:\n",
    "        d.append((i+1)//3 -20)\n",
    "    elif i >= 80 and i < 84:\n",
    "        d.append(7)\n",
    "    elif i >= 84 and i < 87:\n",
    "        d.append(8)\n",
    "    elif i >= 87 and i < 91:\n",
    "        d.append(9)\n",
    "    else:\n",
    "        d.append(\"error\")\n",
    "\n",
    "time = 0\n",
    "for i in d:\n",
    "    time = time + i + 1\n",
    "print(time)"
   ]
  },
  {
   "cell_type": "code",
   "execution_count": 54,
   "metadata": {},
   "outputs": [
    {
     "name": "stdout",
     "output_type": "stream",
     "text": [
      "ljes=njak\n",
      "6\n"
     ]
    }
   ],
   "source": [
    "# 9. 크로아티아 알파벳 (2941번)\n",
    "q = input()\n",
    "ecpt = ['c=','c-','dz=','d-','lj','nj','s=','z=']\n",
    "\n",
    "for e in ecpt:\n",
    "    q = q.replace(e, '*')\n",
    "print(len(q))"
   ]
  },
  {
   "cell_type": "code",
   "execution_count": 55,
   "metadata": {},
   "outputs": [
    {
     "name": "stdout",
     "output_type": "stream",
     "text": [
      "3\n",
      "happy\n",
      "new\n",
      "year\n",
      "3\n"
     ]
    }
   ],
   "source": [
    "# 10. 그룹 단어 체커\n",
    "N = int(input())\n",
    "a = [input() for i in range(N)]\n",
    "\n",
    "res = []\n",
    "for j in range(N):\n",
    "    b = [i for i in a[j]]\n",
    "    i = 1\n",
    "    while i < len(b): \n",
    "        if b[i] == b[i-1]:\n",
    "            del b[i]\n",
    "        else:\n",
    "            i = i+1\n",
    "    res.append(b)\n",
    "\n",
    "count = 0\n",
    "for i in range(N):\n",
    "    if len(res[i]) == len(list(set(res[i]))):\n",
    "        count = count+1\n",
    "print(count)"
   ]
  },
  {
   "cell_type": "code",
   "execution_count": null,
   "metadata": {},
   "outputs": [],
   "source": []
  }
 ],
 "metadata": {
  "kernelspec": {
   "display_name": "Python 3",
   "language": "python",
   "name": "python3"
  },
  "language_info": {
   "codemirror_mode": {
    "name": "ipython",
    "version": 3
   },
   "file_extension": ".py",
   "mimetype": "text/x-python",
   "name": "python",
   "nbconvert_exporter": "python",
   "pygments_lexer": "ipython3",
   "version": "3.7.3"
  }
 },
 "nbformat": 4,
 "nbformat_minor": 2
}
