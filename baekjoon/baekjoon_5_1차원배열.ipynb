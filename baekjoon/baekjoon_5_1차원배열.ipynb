{
 "cells": [
  {
   "cell_type": "code",
   "execution_count": null,
   "metadata": {},
   "outputs": [],
   "source": [
    "# 1. 최소, 최대 (10818번)\n",
    "N = int(input())\n",
    "a = input().split()\n",
    "a = list(map(int, a))\n",
    "print(min(a), max(a))"
   ]
  },
  {
   "cell_type": "code",
   "execution_count": null,
   "metadata": {},
   "outputs": [],
   "source": [
    "# 2. 최대 (2562번)\n",
    "N = 9\n",
    "a = []\n",
    "for i in range(N):\n",
    "    a.append(int(input()))\n",
    "print(max(a))\n",
    "print(a.index(max(a))+1)"
   ]
  },
  {
   "cell_type": "code",
   "execution_count": 6,
   "metadata": {},
   "outputs": [
    {
     "name": "stdin",
     "output_type": "stream",
     "text": [
      " 8 1 7 2 6 3 5 4\n"
     ]
    },
    {
     "name": "stdout",
     "output_type": "stream",
     "text": [
      "[8, 1, 7, 2, 6, 3, 5, 4]\n",
      "mixed\n"
     ]
    }
   ],
   "source": [
    "# 3. 음계 (2920)\n",
    "a = input().split()\n",
    "a = list(map(int,a))\n",
    "b = []\n",
    "for i in range(len(a)-1):\n",
    "    b.append(a[i+1]-a[i])\n",
    "\n",
    "if max(b) == min(b):\n",
    "    if max(b) == 1:\n",
    "        print(\"ascending\")\n",
    "    elif max(b) == -1:\n",
    "        print(\"descending\")\n",
    "else:\n",
    "    print(\"mixed\")"
   ]
  },
  {
   "cell_type": "code",
   "execution_count": 18,
   "metadata": {},
   "outputs": [
    {
     "name": "stdin",
     "output_type": "stream",
     "text": [
      " 150\n",
      " 266\n",
      " 427\n"
     ]
    },
    {
     "name": "stdout",
     "output_type": "stream",
     "text": [
      "3\n",
      "1\n",
      "0\n",
      "2\n",
      "0\n",
      "0\n",
      "0\n",
      "2\n",
      "0\n",
      "0\n"
     ]
    }
   ],
   "source": [
    "# 4.숫자의 개수 (2577)\n",
    "a = int(input())\n",
    "b = int(input())\n",
    "c = int(input())\n",
    "\n",
    "d = a*b*c\n",
    "D = str(d)\n",
    "e = []\n",
    "\n",
    "for i in D:\n",
    "    e.append(i)\n",
    "\n",
    "for j in range(10):\n",
    "    v = 0\n",
    "    for i in e:\n",
    "        if int(i) == j:\n",
    "            v=v+1\n",
    "    print(v)"
   ]
  },
  {
   "cell_type": "code",
   "execution_count": 24,
   "metadata": {},
   "outputs": [
    {
     "name": "stdin",
     "output_type": "stream",
     "text": [
      " 39\n",
      " 40\n",
      " 41\n",
      " 42\n",
      " 43\n",
      " 44\n",
      " 82\n",
      " 83\n",
      " 84\n",
      " 85\n"
     ]
    },
    {
     "name": "stdout",
     "output_type": "stream",
     "text": [
      "[0, 1, 2, 39, 40, 41]\n",
      "6\n"
     ]
    }
   ],
   "source": [
    "## 5. 나머지 (3052)\n",
    "\n",
    "a = [input() for i in range(10)]\n",
    "a = list(map(int,a))\n",
    "b = []\n",
    "for i in a:\n",
    "    b.append(i%42)\n",
    "c = list(set(b))\n",
    "print(len(c))"
   ]
  },
  {
   "cell_type": "code",
   "execution_count": 31,
   "metadata": {},
   "outputs": [
    {
     "name": "stdin",
     "output_type": "stream",
     "text": [
      " 4\n",
      " 1 100 100 100\n"
     ]
    },
    {
     "name": "stdout",
     "output_type": "stream",
     "text": [
      "75.25\n"
     ]
    }
   ],
   "source": [
    "## 6. 평균 (1546)\n",
    "N = int(input())\n",
    "a = input().split()\n",
    "a = list(map(int,a))\n",
    "m = max(a)\n",
    "\n",
    "b = []\n",
    "for i in a:\n",
    "    b.append(i/m*100)\n",
    "print(sum(b)/N)"
   ]
  },
  {
   "cell_type": "code",
   "execution_count": 34,
   "metadata": {},
   "outputs": [
    {
     "name": "stdin",
     "output_type": "stream",
     "text": [
      " 5\n",
      " OOXXOXXOOO\n",
      " OXXOOXXOO\n",
      " OXOXOXOXOXOXOX\n",
      " OOOOOOOOO\n",
      " OOOOXOOOOXOOOOX\n"
     ]
    },
    {
     "name": "stdout",
     "output_type": "stream",
     "text": [
      "10\n",
      "7\n",
      "7\n",
      "45\n",
      "30\n"
     ]
    }
   ],
   "source": [
    "## 7. OX퀴즈 (8958번)\n",
    "\n",
    "N = int(input())\n",
    "a = [input() for i in range(N)]\n",
    "\n",
    "for j in range(N):\n",
    "    b = []\n",
    "    score = 0\n",
    "    for i in a[j]:\n",
    "        if i == \"O\":\n",
    "            score = score + 1\n",
    "        else:\n",
    "            score = 0\n",
    "        b.append(score)\n",
    "    b = list(map(int,b))\n",
    "    print(sum(b))"
   ]
  },
  {
   "cell_type": "code",
   "execution_count": 44,
   "metadata": {},
   "outputs": [
    {
     "name": "stdin",
     "output_type": "stream",
     "text": [
      " 2\n",
      " 5 50 50 70 80 100\n",
      " 7 100 95 90 80 70 60 50\n"
     ]
    },
    {
     "name": "stdout",
     "output_type": "stream",
     "text": [
      "40.000%\n",
      "57.143%\n"
     ]
    }
   ],
   "source": [
    "## 8. 평균은 넘겠지 (4344번)\n",
    "C = int(input())\n",
    "a = [input().split() for i in range(C)]\n",
    "b = []\n",
    "aa = []\n",
    "\n",
    "for i in range(C):\n",
    "    b.append(int(a[i][0]))\n",
    "    del a[i][0]\n",
    "    aa.append( list(map(int,a[i])) )\n",
    "    overavg = 0\n",
    "    for j in range(b[i]):\n",
    "        if aa[i][j] > sum(aa[i])/b[i]:\n",
    "            overavg = overavg + 1\n",
    "    print(format(round(overavg / b[i] * 100,3),\".3f\"), \"%\", sep=\"\")\n"
   ]
  },
  {
   "cell_type": "code",
   "execution_count": null,
   "metadata": {},
   "outputs": [],
   "source": []
  }
 ],
 "metadata": {
  "kernelspec": {
   "display_name": "Python 3",
   "language": "python",
   "name": "python3"
  },
  "language_info": {
   "codemirror_mode": {
    "name": "ipython",
    "version": 3
   },
   "file_extension": ".py",
   "mimetype": "text/x-python",
   "name": "python",
   "nbconvert_exporter": "python",
   "pygments_lexer": "ipython3",
   "version": "3.7.3"
  }
 },
 "nbformat": 4,
 "nbformat_minor": 2
}
