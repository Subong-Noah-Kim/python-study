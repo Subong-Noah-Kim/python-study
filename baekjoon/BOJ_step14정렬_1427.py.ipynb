{
 "cells": [
  {
   "cell_type": "code",
   "execution_count": 14,
   "metadata": {},
   "outputs": [
    {
     "name": "stdout",
     "output_type": "stream",
     "text": [
      "2316\n",
      "['6', '3', '2', '1']\n",
      "6321\n"
     ]
    }
   ],
   "source": [
    "a= input()\n",
    "a = [a[i] for i in range(len(a))]\n",
    "a.sort(reverse=True)\n",
    "b = 0\n",
    "for i in range(len(a)):\n",
    "    b += int(a[i])*(10**(len(a)-i-1))\n",
    "print(b)"
   ]
  },
  {
   "cell_type": "code",
   "execution_count": null,
   "metadata": {},
   "outputs": [],
   "source": []
  }
 ],
 "metadata": {
  "kernelspec": {
   "display_name": "Python 3",
   "language": "python",
   "name": "python3"
  },
  "language_info": {
   "codemirror_mode": {
    "name": "ipython",
    "version": 3
   },
   "file_extension": ".py",
   "mimetype": "text/x-python",
   "name": "python",
   "nbconvert_exporter": "python",
   "pygments_lexer": "ipython3",
   "version": "3.7.3"
  }
 },
 "nbformat": 4,
 "nbformat_minor": 2
}
