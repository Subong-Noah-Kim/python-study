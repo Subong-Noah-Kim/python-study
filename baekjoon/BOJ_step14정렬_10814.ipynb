{
 "cells": [
  {
   "cell_type": "code",
   "execution_count": 7,
   "metadata": {},
   "outputs": [
    {
     "name": "stdout",
     "output_type": "stream",
     "text": [
      "3\n",
      "21 Ju\n",
      "21 Do\n",
      "20 Su\n",
      "20 Su\n",
      "21 Ju\n",
      "21 Do\n"
     ]
    }
   ],
   "source": [
    "# 나이순 정렬\n",
    "\n",
    "n = int(input())\n",
    "a = [input().split() for i in range(n)]\n",
    "for i in range(len(a)):\n",
    "    a[i][0] = int(a[i][0])\n",
    "    a[i].append(i)\n",
    "a.sort(key=lambda x: (x[0],x[2]) )\n",
    "for i in a:\n",
    "    print(i[0], i[1])"
   ]
  },
  {
   "cell_type": "code",
   "execution_count": null,
   "metadata": {},
   "outputs": [],
   "source": []
  }
 ],
 "metadata": {
  "kernelspec": {
   "display_name": "Python 3",
   "language": "python",
   "name": "python3"
  },
  "language_info": {
   "codemirror_mode": {
    "name": "ipython",
    "version": 3
   },
   "file_extension": ".py",
   "mimetype": "text/x-python",
   "name": "python",
   "nbconvert_exporter": "python",
   "pygments_lexer": "ipython3",
   "version": "3.7.3"
  }
 },
 "nbformat": 4,
 "nbformat_minor": 2
}
