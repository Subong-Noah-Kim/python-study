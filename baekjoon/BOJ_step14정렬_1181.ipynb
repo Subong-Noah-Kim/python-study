{
 "cells": [
  {
   "cell_type": "code",
   "execution_count": 8,
   "metadata": {},
   "outputs": [
    {
     "name": "stdout",
     "output_type": "stream",
     "text": [
      "13\n",
      "['more', 'yours', 'wont', 'no', 'i', 'cannot', 'wait', 'im', 'it', 'hesitate', 'but']\n",
      "i\n",
      "im\n",
      "it\n",
      "no\n",
      "no\n",
      "but\n",
      "more\n",
      "more\n",
      "wait\n",
      "wont\n",
      "yours\n",
      "cannot\n",
      "hesitate\n",
      "i\n",
      "im\n",
      "it\n",
      "no\n",
      "but\n",
      "more\n",
      "wait\n",
      "wont\n",
      "yours\n",
      "cannot\n",
      "hesitate\n"
     ]
    }
   ],
   "source": [
    "# 단어 정렬\n",
    "n = int(input())\n",
    "a = [input() for i in range(n)]\n",
    "# a = \"but,i,wont,hesitate,no,more,no,more,it,cannot,wait,im,yours\".split(',')\n",
    "b = list(set(a))\n",
    "b.sort(key= lambda x: (len(x),x))\n",
    "for i in b:\n",
    "    print(i)    "
   ]
  }
 ],
 "metadata": {
  "kernelspec": {
   "display_name": "Python 3",
   "language": "python",
   "name": "python3"
  },
  "language_info": {
   "codemirror_mode": {
    "name": "ipython",
    "version": 3
   },
   "file_extension": ".py",
   "mimetype": "text/x-python",
   "name": "python",
   "nbconvert_exporter": "python",
   "pygments_lexer": "ipython3",
   "version": "3.7.3"
  }
 },
 "nbformat": 4,
 "nbformat_minor": 2
}
