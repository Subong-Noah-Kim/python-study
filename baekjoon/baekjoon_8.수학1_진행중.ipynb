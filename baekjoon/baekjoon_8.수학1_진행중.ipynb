{
 "cells": [
  {
   "cell_type": "code",
   "execution_count": 40,
   "metadata": {},
   "outputs": [
    {
     "name": "stdout",
     "output_type": "stream",
     "text": [
      "1000 70 170\n",
      "11\n"
     ]
    }
   ],
   "source": [
    "# 1. 손익분기점 (1712번)\n",
    "a = input().split()\n",
    "A = int(a[0])\n",
    "B = int(a[1])\n",
    "C = int(a[2])\n",
    "\n",
    "n = 0\n",
    "if C - B <= 0:\n",
    "    print(-1)\n",
    "else:\n",
    "    n = int(A / (C-B))\n",
    "    print(n+1)    "
   ]
  },
  {
   "cell_type": "code",
   "execution_count": 39,
   "metadata": {},
   "outputs": [
    {
     "name": "stdout",
     "output_type": "stream",
     "text": [
      "18\n",
      "4\n"
     ]
    }
   ],
   "source": [
    "# 2. 설탕 배달 (2839번)\n",
    "N = int(input())\n",
    "\n",
    "a = 1667\n",
    "b = 1001\n",
    "c = []\n",
    "idx = []\n",
    "for i in range(a):\n",
    "    for j in range(b):\n",
    "        c.append(3*i + 5*j)\n",
    "        idx.append(i+j)\n",
    "try:\n",
    "    N_idx = c.index(N)\n",
    "    print(idx[N_idx])    \n",
    "except:\n",
    "    print(-1)"
   ]
  },
  {
   "cell_type": "code",
   "execution_count": 38,
   "metadata": {},
   "outputs": [
    {
     "name": "stdout",
     "output_type": "stream",
     "text": [
      "13\n",
      "3\n"
     ]
    }
   ],
   "source": [
    "# 3. 벌집(2292번)\n",
    "N = int(input())\n",
    "\n",
    "n = 0\n",
    "while 3*n*(n+1)+2 <= 1000000000:\n",
    "    n = n+1\n",
    "    if 3*n*(n+1)+2 > N:\n",
    "        break\n",
    "if N == 1:\n",
    "    print(1)\n",
    "else:\n",
    "    print(n+1)    "
   ]
  },
  {
   "cell_type": "code",
   "execution_count": 37,
   "metadata": {},
   "outputs": [
    {
     "name": "stdout",
     "output_type": "stream",
     "text": [
      "14\n",
      "2/4\n"
     ]
    }
   ],
   "source": [
    "# 4. 분수찾기 (1193번)\n",
    "\n",
    "# 데이터입력\n",
    "X = int(input())\n",
    "\n",
    "# 대각선 순서 확인\n",
    "n=0\n",
    "while n*(n+1)/2 < X:\n",
    "    n = n+1\n",
    "\n",
    "# 순서에 맞는 대각선 1줄 생성 및 반전\n",
    "b = []\n",
    "for j in range(n):\n",
    "    b.append([j+1,n-j])\n",
    "if n%2 != 0:\n",
    "    b = list(reversed(b))\n",
    "\n",
    "# 조건에 맞는 대각선의 최종답안출력\n",
    "res = b[int(X- (n*(n-1)/2))-1] \n",
    "print(res[0], res[1], sep='/')        "
   ]
  },
  {
   "cell_type": "code",
   "execution_count": 1,
   "metadata": {},
   "outputs": [
    {
     "name": "stdout",
     "output_type": "stream",
     "text": [
      "2 1 5\n",
      "4\n"
     ]
    }
   ],
   "source": [
    "# 5. 달팽이는 올라가고 싶다 (2869번)\n",
    "a = input().split()\n",
    "A = int(a[0])\n",
    "B = int(a[1])\n",
    "V = int(a[2])\n",
    "\n",
    "res = (V-B) / (A-B)\n",
    "print(int(res) if res%1==0 else int(res//1+1))"
   ]
  },
  {
   "cell_type": "code",
   "execution_count": 2,
   "metadata": {},
   "outputs": [
    {
     "name": "stdout",
     "output_type": "stream",
     "text": [
      "2\n",
      "6 12 10\n",
      "30 50 72\n",
      "402\n",
      "1203\n"
     ]
    }
   ],
   "source": [
    "# 6. ACM 호텔 (10250번)\n",
    "n = int(input())\n",
    "A = [input().split() for i in range(n)]\n",
    "\n",
    "def room(a): \n",
    "    a = list(map(int,a))\n",
    "    H = int(a[0])\n",
    "    W = int(a[1])\n",
    "    N = int(a[2])\n",
    "    \n",
    "    if (N-1)//H + 1 >= 10:\n",
    "        if N%H != 0:\n",
    "            res=str(N%H) + str(N//H + 1)\n",
    "        else:\n",
    "            res=str(H) + str(N//H)\n",
    "    else:\n",
    "        if N%H != 0:\n",
    "            res=str(N%H) + '0' +str(N//H + 1)\n",
    "        else:\n",
    "            res=str(H) + '0' + str(N//H)\n",
    "    return int(res)\n",
    "\n",
    "for i in range(n):\n",
    "    print(room(A[i]))"
   ]
  },
  {
   "cell_type": "code",
   "execution_count": null,
   "metadata": {},
   "outputs": [],
   "source": []
  }
 ],
 "metadata": {
  "kernelspec": {
   "display_name": "Python 3",
   "language": "python",
   "name": "python3"
  },
  "language_info": {
   "codemirror_mode": {
    "name": "ipython",
    "version": 3
   },
   "file_extension": ".py",
   "mimetype": "text/x-python",
   "name": "python",
   "nbconvert_exporter": "python",
   "pygments_lexer": "ipython3",
   "version": "3.7.3"
  }
 },
 "nbformat": 4,
 "nbformat_minor": 2
}
