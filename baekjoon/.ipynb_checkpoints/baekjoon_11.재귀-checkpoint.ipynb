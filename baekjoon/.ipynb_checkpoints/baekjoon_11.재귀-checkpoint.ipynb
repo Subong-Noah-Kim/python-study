{
 "cells": [
  {
   "cell_type": "code",
   "execution_count": 7,
   "metadata": {},
   "outputs": [],
   "source": [
    "# 1. 팩토리얼 (10872번)\n",
    "N = int(input())\n",
    "def fac(n):\n",
    "    if n <= 1:\n",
    "        return 1 # 0인 경우 예외처리\n",
    "    return fac(n-1)*n    \n",
    "print(fac(N))\n"
   ]
  },
  {
   "cell_type": "code",
   "execution_count": 36,
   "metadata": {},
   "outputs": [
    {
     "name": "stdout",
     "output_type": "stream",
     "text": [
      "10\n",
      "55\n"
     ]
    }
   ],
   "source": [
    "# 2.피보나치 수 5 (10870번)\n",
    "\n",
    "N = int(input())\n",
    "def fib(n):\n",
    "    if n <= 1:\n",
    "        return n\n",
    "    return fib(n-1) + fib(n-2)\n",
    "print(fib(N))"
   ]
  },
  {
   "cell_type": "code",
   "execution_count": 19,
   "metadata": {},
   "outputs": [
    {
     "name": "stdout",
     "output_type": "stream",
     "text": [
      "27\n",
      "***************************\n",
      "* ** ** ** ** ** ** ** ** *\n",
      "***************************\n",
      "***   ******   ******   ***\n",
      "* *   * ** *   * ** *   * *\n",
      "***   ******   ******   ***\n",
      "***************************\n",
      "* ** ** ** ** ** ** ** ** *\n",
      "***************************\n",
      "*********         *********\n",
      "* ** ** *         * ** ** *\n",
      "*********         *********\n",
      "***   ***         ***   ***\n",
      "* *   * *         * *   * *\n",
      "***   ***         ***   ***\n",
      "*********         *********\n",
      "* ** ** *         * ** ** *\n",
      "*********         *********\n",
      "***************************\n",
      "* ** ** ** ** ** ** ** ** *\n",
      "***************************\n",
      "***   ******   ******   ***\n",
      "* *   * ** *   * ** *   * *\n",
      "***   ******   ******   ***\n",
      "***************************\n",
      "* ** ** ** ** ** ** ** ** *\n",
      "***************************\n"
     ]
    }
   ],
   "source": [
    "# 3.별찍기 -10 (2447번)\n",
    "n = int(input())\n",
    "mat = [[' ' for i in range(n)] for i in range(n)]\n",
    "\n",
    "def case(y,x,num):\n",
    "    if(num==1):\n",
    "        mat[y][x] = '*'\n",
    "        return\n",
    "    \n",
    "    div = int(num/3)\n",
    "    for i in range(3):\n",
    "        for j in range(3):\n",
    "            if (i==1 and j==1):\n",
    "                pass\n",
    "            else:\n",
    "                case(y+(i*div), x+(j*div), div)\n",
    "                \n",
    "case(0,0,n)\n",
    "for i in range(n):\n",
    "    for j in range(n):\n",
    "        print(mat[i][j], end= '')\n",
    "        if i == j == n-1:\n",
    "            break\n",
    "    print()\n",
    "\n",
    "# 참고 : https://njw0308.tistory.com/5    "
   ]
  },
  {
   "cell_type": "markdown",
   "metadata": {},
   "source": [
    "# 2447번 해설  \n",
    "규칙성 : 3×3에서 가운데 부분을 생략하고 출력  \n",
    "초항 : 처음 9칸(* 8개)를 만듬  \n",
    "재귀함수는 초항의 case를 함수자체로 반복  \n",
    "  \n",
    "1) 적절한 칸수 (n\\*\\*2)의 매트릭스(이중배열)를 만들고 (default : ' ')  \n",
    "&nbsp;&nbsp;&nbsp;&nbsp;※ 추후 남겨진 값을 그대로 출력하기 위해서 공백(space) 사용  \n",
    "2) for문으로 \\[0,1,2\\], \\[0,1,2\\]를 확인하여 \\[1,1\\]인 경우 ' '로 남기고 나머지는 '\\*'을 출력  \n",
    "3) 재귀함수에서 값을 y+i\\*div으로 두는 것은 div가 1이 되기 이전에 미리 좌표를 옮겨두고,  \n",
    "&nbsp;&nbsp;&nbsp;&nbsp;1이 되는 시점에 해당 좌표에 (3×3) 그림을 출력하기 위함  \n",
    "&nbsp;&nbsp;&nbsp;&nbsp;예를들어, (9×9)의 그림을 만들 때, 처음 input값은 n=9이며, 함수에 의해 div=3이 된다.  \n",
    "&nbsp;&nbsp;&nbsp;&nbsp;이때 9번 실행하는 i,j의 for문의 else: case() 부분은 아래와 같이 표현할 수 있다.\n",
    "\n",
    "&nbsp;&nbsp;&nbsp;&nbsp;case(0\\*3,0\\*3,3) → case(0,0,3)  \n",
    "&nbsp;&nbsp;&nbsp;&nbsp;case(0\\*3,1\\*3,3) → case(0,3,3)  \n",
    "&nbsp;&nbsp;&nbsp;&nbsp;case(0\\*3,2\\*3,3) → case(0,6,3)  \n",
    "&nbsp;&nbsp;&nbsp;&nbsp;case(1\\*3,0\\*3,3) → case(3,0,3)  \n",
    "&nbsp;&nbsp;&nbsp;&nbsp;case(1\\*3,1\\*3,3) ⇒ i == j == 1 이므로 pass (실행되지 않음 ⇒ 그대로 공백(' ')으로 남아있다.)  \n",
    "&nbsp;&nbsp;&nbsp;&nbsp;case(1\\*3,2\\*3,3) → case(3,6,3)  \n",
    "&nbsp;&nbsp;&nbsp;&nbsp;case(2\\*3,0\\*3,3) → case(6,0,3)  \n",
    "&nbsp;&nbsp;&nbsp;&nbsp;case(2\\*3,1\\*3,3) → case(6,3,3)  \n",
    "&nbsp;&nbsp;&nbsp;&nbsp;case(2\\*3,2\\*3,3) → case(6,6,3)  \n",
    "\n",
    "&nbsp;&nbsp;&nbsp;&nbsp;여기서 case(,,)의 마지막 인수인 div(또는 n)이 1이면 출력하도록 함수를 구현했으므로 아직  \n",
    "&nbsp;&nbsp;&nbsp;&nbsp;저장되지 않는다. 위에서 2번째 줄 case(0,3,3)을 예로 한 번 더 살펴보자.  \n",
    "&nbsp;&nbsp;&nbsp;&nbsp;재귀함수를 사용했기 때문에 case(,,) 함수가 한 번 더 실행된다.  \n",
    "&nbsp;&nbsp;&nbsp;&nbsp;실행하면 div=3 → div=1 이 된다. 또한 위에서와 같이 (3×3)의 9번 실행되는 for문이 실행된다.  \n",
    "\n",
    "&nbsp;&nbsp;&nbsp;&nbsp;case(0,3 + 0\\*1,1) → case(0,3,1) ⇒ 조건에 따라 이 위치에 \\*을 출력  \n",
    "&nbsp;&nbsp;&nbsp;&nbsp;case(0,3 + 1\\*1,1) → case(0,4,1) ⇒ 조건에 따라 이 위치에 \\*을 출력  \n",
    "&nbsp;&nbsp;&nbsp;&nbsp;case(0,3 + 2\\*1,1) → case(0,5,1) ⇒  조건에 따라 이 위치에 \\*을 출력  \n",
    "&nbsp;&nbsp;&nbsp;&nbsp;case(1,3 + 0\\*1,1) → case(1,3,1) ⇒  조건에 따라 이 위치에 \\*을 출력  \n",
    "&nbsp;&nbsp;&nbsp;&nbsp;case(1,3 + 1\\*1,1) ⇒ i == j == 1 이므로 pass (실행되지 않음 ⇒ 그대로 공백(' ')으로 남아있다.)  \n",
    "&nbsp;&nbsp;&nbsp;&nbsp;case(1,3 + 2\\*1,1) → case(1,5,1) ⇒  조건에 따라 이 위치에 \\*을 출력  \n",
    "&nbsp;&nbsp;&nbsp;&nbsp;case(2,3 + 0\\*1,1) → case(2,3,1) ⇒  조건에 따라 이 위치에 \\*을 출력  \n",
    "&nbsp;&nbsp;&nbsp;&nbsp;case(2,3 + 1\\*1,1) → case(2,4,1) ⇒  조건에 따라 이 위치에 \\*을 출력  \n",
    "&nbsp;&nbsp;&nbsp;&nbsp;case(2,3 + 2\\*1,1) → case(2,5,1) ⇒  조건에 따라 이 위치에 \\*을 출력  \n",
    "\n",
    "&nbsp;&nbsp;&nbsp;&nbsp;이런 형태로 반복하며 전체 (9×9)를 모두 그려낼 수 있다.\n"
   ]
  },
  {
   "cell_type": "code",
   "execution_count": 30,
   "metadata": {
    "scrolled": true
   },
   "outputs": [
    {
     "name": "stdout",
     "output_type": "stream",
     "text": [
      "3\n",
      "7\n",
      "1 3\n",
      "1 2\n",
      "3 2\n",
      "1 3\n",
      "2 1\n",
      "2 3\n",
      "1 3\n"
     ]
    }
   ],
   "source": [
    "# 4. 하노이 탑 이동 순서 (11729번)\n",
    "def hanoi(disk, start, mid, end):\n",
    "    if disk == 1:\n",
    "        print(start, end)\n",
    "    else:\n",
    "        hanoi(disk-1, start, end, mid)\n",
    "        print(start, end)\n",
    "        hanoi(disk-1, mid, start, end)\n",
    "        \n",
    "total_disk = int(input())\n",
    "total_mvmt = 0\n",
    "\n",
    "for disk in range(total_disk):\n",
    "    total_mvmt = total_mvmt*2\n",
    "    total_mvmt += 1\n",
    "    \n",
    "print(total_mvmt)\n",
    "hanoi(total_disk, 1, 2, 3)\n",
    "    \n",
    "# 참고 : https://claude-u.tistory.com/127"
   ]
  },
  {
   "cell_type": "markdown",
   "metadata": {},
   "source": [
    "# 11729번 해설\n",
    "\n",
    "함수를 정의할 때, 어떤 값을 인수로 받을 것인지는 중요하다.  \n",
    "여기서는 \\[디스크의 수(disk), 출발위치(start), 중간위치(mid), 도착위치(end)\\]를 인수로 두었다.  \n",
    "\n",
    "하노이탑 문제는 디스크의 수 n이 주어졌을 때 3단계로 나누어 실행한다.  \n",
    "  \n",
    "\n",
    "1) (n-1)개의 디스크를 중간으로 옮기고\n",
    "  - (n-1)하노이 함수에서 end에 해당하는 값을 mid로 두어 중간을 도착지로 설정  \n",
    "\n",
    "2) 처음 위치에 남아있는 가장 큰 원판 하나를 종점으로 옮긴 뒤  \n",
    "  - 처음 위치의 하나만 종점으로 이동 ( print(start,end) )  \n",
    "  \n",
    "3) 중간에 두었던 (n-1)개를 다시 종점으로 옮기면 된다.  \n",
    "  - 시작위치를 mid로 종점을 end로 설정\n",
    "\n",
    "\n",
    "디스크가 1개인 경우엔 시작점의 위치와 종점의 위치를 출력한다.  \n",
    "n에서 n-1로 진행되며, (시작, 중간, 도착) 위치가 달라지는 모습을 주의깊게 확인해야한다."
   ]
  },
  {
   "cell_type": "code",
   "execution_count": null,
   "metadata": {},
   "outputs": [],
   "source": []
  }
 ],
 "metadata": {
  "kernelspec": {
   "display_name": "Python 3",
   "language": "python",
   "name": "python3"
  },
  "language_info": {
   "codemirror_mode": {
    "name": "ipython",
    "version": 3
   },
   "file_extension": ".py",
   "mimetype": "text/x-python",
   "name": "python",
   "nbconvert_exporter": "python",
   "pygments_lexer": "ipython3",
   "version": "3.7.3"
  }
 },
 "nbformat": 4,
 "nbformat_minor": 2
}
