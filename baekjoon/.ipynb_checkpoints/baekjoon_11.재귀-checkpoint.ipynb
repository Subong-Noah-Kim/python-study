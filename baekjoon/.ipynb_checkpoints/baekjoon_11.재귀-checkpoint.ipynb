{
 "cells": [
  {
   "cell_type": "code",
   "execution_count": 7,
   "metadata": {},
   "outputs": [],
   "source": [
    "# 1. 팩토리얼 (10872번)\n",
    "N = int(input())\n",
    "def fac(n):\n",
    "    if n <= 1:\n",
    "        return 1 # 0인 경우 예외처리\n",
    "    return fac(n-1)*n    \n",
    "print(fac(N))\n"
   ]
  },
  {
   "cell_type": "code",
   "execution_count": 36,
   "metadata": {},
   "outputs": [
    {
     "name": "stdout",
     "output_type": "stream",
     "text": [
      "10\n",
      "55\n"
     ]
    }
   ],
   "source": [
    "# 2.피보나치 수 5 (10870번)\n",
    "\n",
    "N = int(input())\n",
    "def fib(n):\n",
    "    if n <= 1:\n",
    "        return n\n",
    "    return fib(n-1) + fib(n-2)\n",
    "print(fib(N))"
   ]
  },
  {
   "cell_type": "code",
   "execution_count": 12,
   "metadata": {},
   "outputs": [
    {
     "name": "stdout",
     "output_type": "stream",
     "text": [
      "27\n",
      "***************************\n",
      "\n",
      "* ** ** ** ** ** ** ** ** *\n",
      "\n",
      "***************************\n",
      "\n",
      "***   ******   ******   ***\n",
      "\n",
      "* *   * ** *   * ** *   * *\n",
      "\n",
      "***   ******   ******   ***\n",
      "\n",
      "***************************\n",
      "\n",
      "* ** ** ** ** ** ** ** ** *\n",
      "\n",
      "***************************\n",
      "\n",
      "*********         *********\n",
      "\n",
      "* ** ** *         * ** ** *\n",
      "\n",
      "*********         *********\n",
      "\n",
      "***   ***         ***   ***\n",
      "\n",
      "* *   * *         * *   * *\n",
      "\n",
      "***   ***         ***   ***\n",
      "\n",
      "*********         *********\n",
      "\n",
      "* ** ** *         * ** ** *\n",
      "\n",
      "*********         *********\n",
      "\n",
      "***************************\n",
      "\n",
      "* ** ** ** ** ** ** ** ** *\n",
      "\n",
      "***************************\n",
      "\n",
      "***   ******   ******   ***\n",
      "\n",
      "* *   * ** *   * ** *   * *\n",
      "\n",
      "***   ******   ******   ***\n",
      "\n",
      "***************************\n",
      "\n",
      "* ** ** ** ** ** ** ** ** *\n",
      "\n",
      "***************************\n",
      "\n"
     ]
    }
   ],
   "source": [
    "# 3.별찍기 -10 (2447번)\n",
    "  # 규칙성\n",
    "    # 인풋값은 3의 제곱수\n",
    "    # 상하 대칭, 좌우 대칭\n",
    "    # 인풋된 값만큼 줄 출력\n",
    "    # 상하, 좌우 모두 전체가 3등분(A B A)\n",
    "    # 가운데 빼고 출력, 3배씩 반복\n",
    "\n",
    "n = int(input())\n",
    "mat = [[' ' for i in range(n)] for i in range(n)]\n",
    "\n",
    "def case(y, x, num):\n",
    "    if(num==1):\n",
    "        mat[y][x]='*'\n",
    "        return\n",
    "\n",
    "    div = int(num/3)\n",
    "    for i in range(3):\n",
    "        for j in range(3):\n",
    "            if (i==1 and j==1):\n",
    "                pass\n",
    "            else:\n",
    "                case(y+(i*div), x+(j*div), div)\n",
    "                \n",
    "case(0,0,n)\n",
    "for i in range(n):\n",
    "    for j in range(n):\n",
    "        print(mat[i][j], end='')\n",
    "        if i== j == n-1:\n",
    "            break\n",
    "    print('\\n')\n",
    "    \n",
    "# 참고 : https://njw0308.tistory.com/5    "
   ]
  },
  {
   "cell_type": "code",
   "execution_count": null,
   "metadata": {},
   "outputs": [],
   "source": []
  }
 ],
 "metadata": {
  "kernelspec": {
   "display_name": "Python 3",
   "language": "python",
   "name": "python3"
  },
  "language_info": {
   "codemirror_mode": {
    "name": "ipython",
    "version": 3
   },
   "file_extension": ".py",
   "mimetype": "text/x-python",
   "name": "python",
   "nbconvert_exporter": "python",
   "pygments_lexer": "ipython3",
   "version": "3.7.3"
  }
 },
 "nbformat": 4,
 "nbformat_minor": 2
}
