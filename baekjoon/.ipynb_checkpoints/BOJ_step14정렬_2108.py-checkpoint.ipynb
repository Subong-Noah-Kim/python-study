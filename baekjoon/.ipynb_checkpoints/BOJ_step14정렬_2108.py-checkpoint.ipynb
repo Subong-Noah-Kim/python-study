{
 "cells": [
  {
   "cell_type": "code",
   "execution_count": 19,
   "metadata": {},
   "outputs": [
    {
     "name": "stdout",
     "output_type": "stream",
     "text": [
      "5\n",
      "-1\n",
      "-2\n",
      "-3\n",
      "-1\n",
      "-2\n",
      "-2\n",
      "-2\n",
      "-1\n",
      "2\n"
     ]
    }
   ],
   "source": [
    "n = int(input()) \n",
    "a = [int(input()) for i in range(n)]\n",
    "a.sort()\n",
    "\n",
    "# mean\n",
    "print(int(round(sum(a)/len(a),0)))\n",
    "\n",
    "# median\n",
    "if len(a)%2 == 1:\n",
    "    print( a[int((len(a)+1)/2)-1])\n",
    "else:\n",
    "    print((a[len(a)/2 - 1] + a[len(a)/2 + 1])/2)\n",
    "\n",
    "# mode\n",
    "rd = list(set(a))\n",
    "count = [0]*len(rd)\n",
    "for i in range(len(rd)):\n",
    "    for j in range(len(a)):\n",
    "        if rd[i] == a[j]:\n",
    "            count[i] += 1\n",
    "count2 = 0\n",
    "ans = []\n",
    "for i in range(len(count)):\n",
    "    if count[i] == max(count):\n",
    "        count2 += 1\n",
    "        ans.append(rd[i])\n",
    "if count2 == 1:\n",
    "    print(rd[count.index(max(count))])\n",
    "else:\n",
    "    ans.pop(ans.index(min(ans)))\n",
    "    print(min(ans))\n",
    "\n",
    "# range\n",
    "print(max(a)-min(a))"
   ]
  },
  {
   "cell_type": "code",
   "execution_count": null,
   "metadata": {},
   "outputs": [],
   "source": []
  }
 ],
 "metadata": {
  "kernelspec": {
   "display_name": "Python 3",
   "language": "python",
   "name": "python3"
  },
  "language_info": {
   "codemirror_mode": {
    "name": "ipython",
    "version": 3
   },
   "file_extension": ".py",
   "mimetype": "text/x-python",
   "name": "python",
   "nbconvert_exporter": "python",
   "pygments_lexer": "ipython3",
   "version": "3.7.3"
  }
 },
 "nbformat": 4,
 "nbformat_minor": 2
}
