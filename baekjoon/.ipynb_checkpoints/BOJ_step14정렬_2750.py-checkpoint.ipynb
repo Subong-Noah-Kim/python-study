{
 "cells": [
  {
   "cell_type": "markdown",
   "metadata": {},
   "source": [
    "# 수 정렬하기\n",
    "시간 복잡도가 O(n²)인 정렬 알고리즘으로 풀 수 있습니다.  \n",
    "예를 들면 삽입 정렬, 거품 정렬 등이 있습니다.  \n",
    "\n",
    "아래의 문제는 삽입정렬(Insertion Sort)로 해결\n",
    "- 참고 : https://hsp1116.tistory.com/33"
   ]
  },
  {
   "cell_type": "code",
   "execution_count": 15,
   "metadata": {},
   "outputs": [
    {
     "name": "stdout",
     "output_type": "stream",
     "text": [
      "5\n",
      "5\n",
      "4\n",
      "2\n",
      "3\n",
      "1\n",
      "[5, 4, 2, 3, 1] b= 1 j= 0\n",
      "[4, 5, 2, 3, 1] b= 4 j= 1\n",
      "[4, 2, 5, 3, 1] b= 2 j= 0\n",
      "[2, 4, 5, 3, 1] b= 2 j= 2\n",
      "[2, 4, 3, 5, 1] b= 3 j= 1\n",
      "[2, 3, 4, 5, 1] b= 3 j= 3\n",
      "[2, 3, 4, 1, 5] b= 1 j= 2\n",
      "[2, 3, 1, 4, 5] b= 1 j= 1\n",
      "[2, 1, 3, 4, 5] b= 1 j= 0\n",
      "1\n",
      "2\n",
      "3\n",
      "4\n",
      "5\n"
     ]
    }
   ],
   "source": [
    "n = int(input()) \n",
    "a = [int(input()) for i in range(n)]\n",
    "\n",
    "for i in range(1,len(a)):\n",
    "    j = i-1\n",
    "    while a[j] > a[j+1]:\n",
    "#         print(a, 'b=',b,'j=',j)\n",
    "        b = a.pop(j+1)\n",
    "        a.insert(j,b)\n",
    "        j -= 1        \n",
    "        if j == -1:\n",
    "            break\n",
    "\n",
    "for i in a:\n",
    "    print(i)"
   ]
  },
  {
   "cell_type": "code",
   "execution_count": null,
   "metadata": {},
   "outputs": [],
   "source": []
  }
 ],
 "metadata": {
  "kernelspec": {
   "display_name": "Python 3",
   "language": "python",
   "name": "python3"
  },
  "language_info": {
   "codemirror_mode": {
    "name": "ipython",
    "version": 3
   },
   "file_extension": ".py",
   "mimetype": "text/x-python",
   "name": "python",
   "nbconvert_exporter": "python",
   "pygments_lexer": "ipython3",
   "version": "3.7.3"
  }
 },
 "nbformat": 4,
 "nbformat_minor": 2
}
