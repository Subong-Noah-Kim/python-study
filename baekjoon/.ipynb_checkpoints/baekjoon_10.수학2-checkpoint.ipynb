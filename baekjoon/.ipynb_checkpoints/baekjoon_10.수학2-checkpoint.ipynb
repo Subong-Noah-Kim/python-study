{
 "cells": [
  {
   "cell_type": "code",
   "execution_count": 34,
   "metadata": {},
   "outputs": [
    {
     "name": "stdout",
     "output_type": "stream",
     "text": [
      "4\n",
      "1 2 3 5\n",
      "[2, 3, 5]\n",
      "3\n"
     ]
    }
   ],
   "source": [
    "# 1.소수찾기 (1978번)\n",
    "N = int(input())\n",
    "a = input().split()\n",
    "a = list(map(int,a))\n",
    "# a = [i for i in range(1,N+1)]\n",
    "\n",
    "prime = []\n",
    "for i in range(N):\n",
    "    if a[i] == 2:\n",
    "        prime.append(a[i])\n",
    "    else:\n",
    "        for j in range(2,a[i]):\n",
    "            if a[i]%j == 0:\n",
    "                break\n",
    "            elif j == (a[i]-1):\n",
    "                prime.append(a[i])\n",
    "# print(prime)\n",
    "print(len(prime))"
   ]
  },
  {
   "cell_type": "code",
   "execution_count": 40,
   "metadata": {},
   "outputs": [
    {
     "name": "stdout",
     "output_type": "stream",
     "text": [
      "64\n",
      "65\n",
      "-1\n"
     ]
    }
   ],
   "source": [
    "# 2. 소수 (2581번)\n",
    "M = int(input())\n",
    "N = int(input())\n",
    "\n",
    "prime = []\n",
    "for i in range(M,N+1):\n",
    "    if i == 2:\n",
    "        prime.append(i)\n",
    "    else:\n",
    "        for j in range(2,i):\n",
    "            if i%j == 0:\n",
    "                break\n",
    "            elif j == (i-1):\n",
    "                prime.append(i)\n",
    "\n",
    "## result\n",
    "if len(prime) == 0:\n",
    "    print(-1)\n",
    "else:\n",
    "    print(sum(prime))\n",
    "    print(min(prime))"
   ]
  },
  {
   "cell_type": "code",
   "execution_count": 17,
   "metadata": {},
   "outputs": [
    {
     "name": "stdout",
     "output_type": "stream",
     "text": [
      "3 16\n",
      "3\n",
      "5\n",
      "7\n",
      "11\n",
      "13\n"
     ]
    }
   ],
   "source": [
    "# 3. 소수구하기 (1929번)\n",
    "M,N = list(map(int,input().split(' ')))\n",
    "\n",
    "prime = []\n",
    "for i in range(M,N+1):\n",
    "    if i == 2 or i == 3: \n",
    "        # int(sqrt)+1 값을 기준으로 2보다 작은 예외처리\n",
    "        prime.append(i)\n",
    "    else:\n",
    "        sq_i = int(pow(i,1/2))\n",
    "          # sqrt까지만 나누어도 소수인지 확인이 가능하다.\n",
    "        for j in range(2,sq_i+1):\n",
    "            if i%j == 0:\n",
    "                break\n",
    "            elif j == (sq_i):\n",
    "                prime.append(i)\n",
    "\n",
    "## result\n",
    "for i in prime:\n",
    "    print(i)\n",
    "    \n",
    "# 참고 : https://hongku.tistory.com/274"
   ]
  },
  {
   "cell_type": "code",
   "execution_count": 27,
   "metadata": {
    "scrolled": true
   },
   "outputs": [
    {
     "name": "stdout",
     "output_type": "stream",
     "text": [
      "1\n",
      "1\n",
      "4\n",
      "2\n",
      "13\n",
      "3\n",
      "100\n",
      "21\n",
      "1000\n",
      "135\n",
      "10000\n",
      "1033\n",
      "100000\n",
      "8392\n",
      "0\n"
     ]
    }
   ],
   "source": [
    "# 4. 베르트랑 공준 (4948번)\n",
    "\n",
    "while True:\n",
    "    n = int(input())\n",
    "    if n == 0:\n",
    "        break\n",
    "    prime = []\n",
    "    for i in range(n+1,2*n+1):\n",
    "        if i == 2 or i == 3: \n",
    "            # int(sqrt)+1 값을 기준으로 2보다 작은 예외처리\n",
    "            prime.append(i)\n",
    "        else:\n",
    "            sq_i = int(pow(i,1/2))\n",
    "              # sqrt까지만 나누어도 소수인지 확인이 가능하다.\n",
    "            for j in range(2,sq_i+1):\n",
    "                if i%j == 0:\n",
    "                    break\n",
    "                elif j == (sq_i):\n",
    "                    prime.append(i)\n",
    "    print(len(prime))"
   ]
  },
  {
   "cell_type": "code",
   "execution_count": 2,
   "metadata": {},
   "outputs": [
    {
     "name": "stdout",
     "output_type": "stream",
     "text": [
      "3\n",
      "8\n",
      "3 5\n",
      "10\n",
      "5 5\n",
      "16\n",
      "5 11\n"
     ]
    }
   ],
   "source": [
    "# 5.골드바흐의 추측 (9020번)\n",
    "  # 리스트에 메모리를 추가로 할당하는 append()는 메모리 소모가 커\n",
    "  # 처음에 가급적 모두 만들어두고 사용 or 활용공간 정의하면 효율적\n",
    "prime = []\n",
    "for i in range(2,10000):\n",
    "    if i == 2 or i == 3: \n",
    "        # int(sqrt)+1 값을 기준으로 2보다 작은 예외처리\n",
    "        prime.append(i)\n",
    "    else:\n",
    "        sq_i = int(pow(i,1/2))\n",
    "          # sqrt까지만 나누어도 소수인지 확인이 가능하다.\n",
    "        for j in range(2,sq_i+1):\n",
    "            if i%j == 0:\n",
    "                break\n",
    "            elif j == (sq_i):\n",
    "                prime.append(i)\n",
    "\n",
    "n = int(input())\n",
    "for k in range(n):\n",
    "    p = int(input())\n",
    "    p_prime = list([pp for pp in prime if pp <= p])\n",
    "    ans = []\n",
    "    prod = []\n",
    "    for i in p_prime:\n",
    "        for j in p_prime:\n",
    "            if i+j == p:\n",
    "                ans.append([i,j])\n",
    "                prod.append(i*j)\n",
    "\n",
    "    print(ans[prod.index(max(prod))][0], ans[prod.index(max(prod))][1])\n",
    "    \n",
    "# 참고(리스트성능) : https://smlee729.github.io/python/data%20structure/2015/03/02/1-list-allocation.html"
   ]
  },
  {
   "cell_type": "code",
   "execution_count": 5,
   "metadata": {},
   "outputs": [
    {
     "name": "stdout",
     "output_type": "stream",
     "text": [
      "6 2 10 3\n",
      "1\n"
     ]
    }
   ],
   "source": [
    "# 6.직사각형에서 탈출 (1085번)\n",
    "x, y, w, h = list(map(int,input().split(' ')))\n",
    "print(min([x, y, w-x, h-y]))"
   ]
  },
  {
   "cell_type": "code",
   "execution_count": 31,
   "metadata": {},
   "outputs": [
    {
     "name": "stdout",
     "output_type": "stream",
     "text": [
      "2 9\n",
      "2 18\n",
      "10 9\n",
      "10 18\n"
     ]
    }
   ],
   "source": [
    "# 7.네 번째 점(3009번)\n",
    "a = [list(map(int,input().split(' '))) for i in range(3)]\n",
    "ss = []\n",
    "idx = []\n",
    "for i in range(len(a)):\n",
    "    for j in range(i+1,len(a)):\n",
    "        ss.append((a[i][0]-a[j][0])**2 + (a[i][1]-a[j][1])**2)\n",
    "        idx.append([a[i],a[j]])\n",
    "diag = idx[ss.index(max(ss))]\n",
    "mp = [(diag[0][0] + diag[1][0])/2,(diag[0][1] + diag[1][1])/2]\n",
    "\n",
    "for i in a:\n",
    "    if i not in diag:\n",
    "        p = i\n",
    "        break\n",
    "print(int(2*mp[0]-p[0]), int(2*mp[1]-p[1]), sep=' ')"
   ]
  },
  {
   "cell_type": "code",
   "execution_count": 39,
   "metadata": {},
   "outputs": [
    {
     "name": "stdout",
     "output_type": "stream",
     "text": [
      "6 8 10\n",
      "right\n",
      "25 52 60\n",
      "wrong\n",
      "5 12 13\n",
      "right\n",
      "0 0 0\n"
     ]
    }
   ],
   "source": [
    "# 8.직각삼각형 (4153번)\n",
    "while True:\n",
    "    a = list(map(int,input().split(' ')))\n",
    "    if a[0]==0 and a[1]==0 and a[2]==0:\n",
    "        break\n",
    "    c = a.pop(a.index(max(a))) # pop은 찾은 원소를 원본리스트에서 제거한다.\n",
    "\n",
    "    if a[0]**2 + a[1]**2 == c**2:\n",
    "        print(\"right\")\n",
    "    else:\n",
    "        print(\"wrong\")    "
   ]
  },
  {
   "cell_type": "code",
   "execution_count": 42,
   "metadata": {},
   "outputs": [
    {
     "name": "stdout",
     "output_type": "stream",
     "text": [
      "1\n",
      "3.141592653589793\n",
      "2\n"
     ]
    }
   ],
   "source": [
    "# 9. 택시 기하학 (3053번)\n",
    "import math # 원주율값을 가져옴.\n",
    "\n",
    "r = int(input())\n",
    "print(r**2 * math.pi)\n",
    "print( 2* (r**2) ) # 다이아몬드형태(마름모)이므로 사각형/2의 넓이"
   ]
  },
  {
   "cell_type": "code",
   "execution_count": 49,
   "metadata": {},
   "outputs": [
    {
     "name": "stdout",
     "output_type": "stream",
     "text": [
      "3\n",
      "0 0 13 40 0 37\n",
      "2\n",
      "0 0 3 0 7 4\n",
      "1\n",
      "1 1 1 1 1 5\n",
      "0\n"
     ]
    }
   ],
   "source": [
    "# 10. 터렛 (1002번)\n",
    "N = int(input())\n",
    "for i in range(N):\n",
    "    x1,y1,r1,x2,y2,r2 = list(map(int,input().split(' ')))\n",
    "    d = pow((x2-x1)**2 + (y2-y1)**2 ,1/2)\n",
    "    if x1==x2 and y1==y2:\n",
    "        if r1==r2:\n",
    "            print(-1)\n",
    "        else:\n",
    "            print(0)\n",
    "    elif d > r1+r2:\n",
    "        print(0)\n",
    "    elif d == r1+r2:\n",
    "        print(1)\n",
    "    elif d < r1+r2:\n",
    "        if d == max([r1,r2])-min([r1,r2]):\n",
    "            print(1)   \n",
    "        elif d < max([r1,r2])-min([r1,r2]):\n",
    "            print(0)\n",
    "        else:\n",
    "            print(2)"
   ]
  }
 ],
 "metadata": {
  "kernelspec": {
   "display_name": "Python 3",
   "language": "python",
   "name": "python3"
  },
  "language_info": {
   "codemirror_mode": {
    "name": "ipython",
    "version": 3
   },
   "file_extension": ".py",
   "mimetype": "text/x-python",
   "name": "python",
   "nbconvert_exporter": "python",
   "pygments_lexer": "ipython3",
   "version": "3.7.3"
  }
 },
 "nbformat": 4,
 "nbformat_minor": 2
}
