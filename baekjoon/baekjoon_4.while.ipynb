{
 "cells": [
  {
   "cell_type": "code",
   "execution_count": 3,
   "metadata": {},
   "outputs": [
    {
     "name": "stdin",
     "output_type": "stream",
     "text": [
      " 0 0\n"
     ]
    }
   ],
   "source": [
    "# 1. A+B\n",
    "a,b = input().split()\n",
    "while int(a) != 0 and int(b) !=0:\n",
    "    print(int(a)+int(b))  # 프린트 순서에 주의\n",
    "    a,b = input().split()"
   ]
  },
  {
   "cell_type": "code",
   "execution_count": 1,
   "metadata": {},
   "outputs": [
    {
     "name": "stdin",
     "output_type": "stream",
     "text": [
      " 1 1\n"
     ]
    },
    {
     "name": "stdout",
     "output_type": "stream",
     "text": [
      "2\n"
     ]
    },
    {
     "name": "stdin",
     "output_type": "stream",
     "text": [
      " \n"
     ]
    }
   ],
   "source": [
    "# 2. A+B : 몇개의 테스트케이스가 주어졌는지 알 수 없는경우 입력을 EOF까지 받으면 된다.\n",
    "while True:\n",
    "    try:\n",
    "        a,b = input().split()\n",
    "        print(int(a)+int(b))  # 프린트 순서에 주의\n",
    "    except:\n",
    "        break\n",
    "## try ~ except 는 예외처리의 한가지 방법.\n",
    "\n",
    "\n",
    "# 풀이2 (출처 : https://hwiyong.tistory.com/m/208?category=844316 )\n",
    "import sys\n",
    " \n",
    "for line in sys.stdin:\n",
    "    a, b = map(int, line.split())\n",
    "    print(a + b)\n",
    "## 위는 정석답안으로 보임."
   ]
  },
  {
   "cell_type": "code",
   "execution_count": 6,
   "metadata": {},
   "outputs": [
    {
     "name": "stdin",
     "output_type": "stream",
     "text": [
      " 26\n"
     ]
    },
    {
     "name": "stdout",
     "output_type": "stream",
     "text": [
      "4\n"
     ]
    }
   ],
   "source": [
    "# 3.더하기사이클\n",
    "a = int(input())\n",
    "i = 0\n",
    "b = a\n",
    "while True:\n",
    "    a10 = b // 10\n",
    "    a1 = b % 10\n",
    "    b = a1*10 + (a10+a1)%10\n",
    "    i = i + 1\n",
    "#     print(a10, a1, b)\n",
    "    if b == a:\n",
    "        break\n",
    "print(i)"
   ]
  },
  {
   "cell_type": "code",
   "execution_count": null,
   "metadata": {},
   "outputs": [],
   "source": []
  }
 ],
 "metadata": {
  "kernelspec": {
   "display_name": "Python 3",
   "language": "python",
   "name": "python3"
  },
  "language_info": {
   "codemirror_mode": {
    "name": "ipython",
    "version": 3
   },
   "file_extension": ".py",
   "mimetype": "text/x-python",
   "name": "python",
   "nbconvert_exporter": "python",
   "pygments_lexer": "ipython3",
   "version": "3.7.3"
  }
 },
 "nbformat": 4,
 "nbformat_minor": 2
}
