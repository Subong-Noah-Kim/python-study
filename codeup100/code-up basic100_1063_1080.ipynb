{
 "cells": [
  {
   "cell_type": "code",
   "execution_count": 1,
   "metadata": {},
   "outputs": [
    {
     "name": "stdin",
     "output_type": "stream",
     "text": [
      " 123 456\n"
     ]
    },
    {
     "name": "stdout",
     "output_type": "stream",
     "text": [
      "456\n"
     ]
    }
   ],
   "source": [
    "# codeup 1063\n",
    "a,b = input().split()\n",
    "print(int(a) if int(a) >= int(b) else int(b))"
   ]
  },
  {
   "cell_type": "code",
   "execution_count": 3,
   "metadata": {},
   "outputs": [
    {
     "name": "stdin",
     "output_type": "stream",
     "text": [
      " 3 -1 5\n"
     ]
    },
    {
     "name": "stdout",
     "output_type": "stream",
     "text": [
      "-1\n"
     ]
    }
   ],
   "source": [
    "# codeup 1064\n",
    "a,b,c = input().split()\n",
    "x1 = int(a) if int(a) <= int(b) else int(b)\n",
    "x2 = int(x1) if int(x1) <= int(c) else int(c)\n",
    "print(x2)"
   ]
  },
  {
   "cell_type": "code",
   "execution_count": 6,
   "metadata": {},
   "outputs": [
    {
     "name": "stdin",
     "output_type": "stream",
     "text": [
      " 1 2 4\n"
     ]
    },
    {
     "name": "stdout",
     "output_type": "stream",
     "text": [
      "2\n",
      "4\n"
     ]
    }
   ],
   "source": [
    "# codeup 1065\n",
    "a,b,c = input().split()\n",
    "aa = int(a) % 2\n",
    "bb = int(b) % 2\n",
    "cc = int(c) % 2\n",
    "if aa == 0 :\n",
    "  print(a) \n",
    "if bb == 0 :\n",
    "  print(b) \n",
    "if cc == 0 :\n",
    "  print(c) "
   ]
  },
  {
   "cell_type": "code",
   "execution_count": 7,
   "metadata": {},
   "outputs": [
    {
     "name": "stdin",
     "output_type": "stream",
     "text": [
      " 1 2 8\n"
     ]
    },
    {
     "name": "stdout",
     "output_type": "stream",
     "text": [
      "odd\n",
      "even\n",
      "even\n"
     ]
    }
   ],
   "source": [
    "# codeup 1066\n",
    "a,b,c = input().split()\n",
    "aa = int(a) % 2\n",
    "bb = int(b) % 2\n",
    "cc = int(c) % 2\n",
    "if aa == 0 :\n",
    "  print(\"even\")\n",
    "else:\n",
    "    print(\"odd\")\n",
    "if bb == 0 :\n",
    "  print(\"even\")\n",
    "else:\n",
    "    print(\"odd\")\n",
    "if cc == 0 :\n",
    "  print(\"even\")\n",
    "else:\n",
    "    print(\"odd\")    "
   ]
  },
  {
   "cell_type": "code",
   "execution_count": 10,
   "metadata": {},
   "outputs": [
    {
     "name": "stdin",
     "output_type": "stream",
     "text": [
      " -48548\n"
     ]
    },
    {
     "name": "stdout",
     "output_type": "stream",
     "text": [
      "minus\n",
      "even\n"
     ]
    }
   ],
   "source": [
    "# codeup 1067\n",
    "a = input()\n",
    "aa = int(a) % 2\n",
    "\n",
    "if int(a) > 0 :\n",
    "  print(\"plus\")\n",
    "else:\n",
    "    print(\"minus\")\n",
    "if aa == 0 :\n",
    "  print(\"even\")\n",
    "else:\n",
    "    print(\"odd\")"
   ]
  },
  {
   "cell_type": "code",
   "execution_count": 11,
   "metadata": {},
   "outputs": [
    {
     "name": "stdin",
     "output_type": "stream",
     "text": [
      " 73\n"
     ]
    },
    {
     "name": "stdout",
     "output_type": "stream",
     "text": [
      "B\n"
     ]
    }
   ],
   "source": [
    "# codeup 1068\n",
    "a = input()\n",
    "\n",
    "if int(a) >= 90 :\n",
    "  print(\"A\")\n",
    "elif int(a) >= 70 :\n",
    "  print(\"B\")\n",
    "elif int(a) >= 40 :\n",
    "  print(\"C\")\n",
    "else:\n",
    "  print(\"D\")"
   ]
  },
  {
   "cell_type": "code",
   "execution_count": 12,
   "metadata": {},
   "outputs": [
    {
     "name": "stdin",
     "output_type": "stream",
     "text": [
      " B\n"
     ]
    },
    {
     "name": "stdout",
     "output_type": "stream",
     "text": [
      "good!!\n"
     ]
    }
   ],
   "source": [
    "# codeup 1069\n",
    "a = input()\n",
    "\n",
    "if a == \"A\" :\n",
    "  print(\"best!!!\")\n",
    "elif a == \"B\" :\n",
    "  print(\"good!!\")\n",
    "elif a == \"C\" :\n",
    "  print(\"run!\")\n",
    "elif a == \"D\" :\n",
    "  print(\"slowly~\")\n",
    "else:\n",
    "  print(\"what?\")"
   ]
  },
  {
   "cell_type": "code",
   "execution_count": 13,
   "metadata": {},
   "outputs": [
    {
     "name": "stdin",
     "output_type": "stream",
     "text": [
      " 12\n"
     ]
    },
    {
     "name": "stdout",
     "output_type": "stream",
     "text": [
      "winter\n"
     ]
    }
   ],
   "source": [
    "# codeup 1070\n",
    "a = input()\n",
    "\n",
    "if int(a) == 12 or int(a) <= 2 :\n",
    "  print(\"winter\")\n",
    "elif int(a) <= 5 :\n",
    "  print(\"spring\")\n",
    "elif int(a) <= 8 :\n",
    "  print(\"summer\")\n",
    "elif int(a) <= 11 :\n",
    "  print(\"fall\")"
   ]
  },
  {
   "cell_type": "code",
   "execution_count": 2,
   "metadata": {},
   "outputs": [
    {
     "name": "stdin",
     "output_type": "stream",
     "text": [
      " 7 4 2 3 0 1\n"
     ]
    },
    {
     "name": "stdout",
     "output_type": "stream",
     "text": [
      "7\n",
      "4\n",
      "2\n",
      "3\n"
     ]
    }
   ],
   "source": [
    "# codeup 1071\n",
    "a = input().split()\n",
    "i = 0\n",
    "while int(a[i]) != 0:\n",
    "    print(a[i])\n",
    "    i = i+1"
   ]
  },
  {
   "cell_type": "code",
   "execution_count": 4,
   "metadata": {},
   "outputs": [
    {
     "name": "stdin",
     "output_type": "stream",
     "text": [
      " 5\n",
      " 1 2 3 4 5\n"
     ]
    },
    {
     "name": "stdout",
     "output_type": "stream",
     "text": [
      "1\n",
      "2\n",
      "3\n",
      "4\n",
      "5\n"
     ]
    }
   ],
   "source": [
    "# codeup 1072\n",
    "a = int(input())\n",
    "b = input().split()\n",
    "for x in b:\n",
    "    print(x)"
   ]
  },
  {
   "cell_type": "code",
   "execution_count": 5,
   "metadata": {},
   "outputs": [
    {
     "name": "stdin",
     "output_type": "stream",
     "text": [
      " 7 4 2 3 0 1\n"
     ]
    },
    {
     "name": "stdout",
     "output_type": "stream",
     "text": [
      "7\n",
      "4\n",
      "2\n",
      "3\n"
     ]
    }
   ],
   "source": [
    "# codeup 1073\n",
    "b = input().split()\n",
    "for x in b:\n",
    "    if int(x) == 0:\n",
    "        break\n",
    "    print(x)"
   ]
  },
  {
   "cell_type": "code",
   "execution_count": 12,
   "metadata": {},
   "outputs": [
    {
     "name": "stdin",
     "output_type": "stream",
     "text": [
      " 5\n"
     ]
    },
    {
     "name": "stdout",
     "output_type": "stream",
     "text": [
      "5\n",
      "4\n",
      "3\n",
      "2\n",
      "1\n"
     ]
    }
   ],
   "source": [
    "# codeup 1074\n",
    "b = input()\n",
    "while int(b) >= 1:\n",
    "    print(b)\n",
    "    b = int(b)-1"
   ]
  },
  {
   "cell_type": "code",
   "execution_count": 17,
   "metadata": {},
   "outputs": [
    {
     "name": "stdin",
     "output_type": "stream",
     "text": [
      " 5\n"
     ]
    },
    {
     "name": "stdout",
     "output_type": "stream",
     "text": [
      "4\n",
      "3\n",
      "2\n",
      "1\n",
      "0\n"
     ]
    }
   ],
   "source": [
    "# codeup 1075\n",
    "b = input()\n",
    "while int(b) > 0:\n",
    "    b = int(b)-1\n",
    "    print(b)"
   ]
  },
  {
   "cell_type": "code",
   "execution_count": 30,
   "metadata": {},
   "outputs": [
    {
     "name": "stdin",
     "output_type": "stream",
     "text": [
      " f\n"
     ]
    },
    {
     "name": "stdout",
     "output_type": "stream",
     "text": [
      "a b c d e f "
     ]
    }
   ],
   "source": [
    "# codeup 1076\n",
    "a = input()\n",
    "b = ord(\"a\")\n",
    "while b <= ord(a):\n",
    "    print(chr(b), end=\" \")\n",
    "    b = b+1"
   ]
  },
  {
   "cell_type": "code",
   "execution_count": 31,
   "metadata": {},
   "outputs": [
    {
     "name": "stdin",
     "output_type": "stream",
     "text": [
      " 4\n"
     ]
    },
    {
     "name": "stdout",
     "output_type": "stream",
     "text": [
      "0\n",
      "1\n",
      "2\n",
      "3\n",
      "4\n"
     ]
    }
   ],
   "source": [
    "# codeup 1077\n",
    "a = int(input())\n",
    "b = 0\n",
    "while b <= a:\n",
    "    print(b)\n",
    "    b = b+1"
   ]
  },
  {
   "cell_type": "code",
   "execution_count": 33,
   "metadata": {},
   "outputs": [
    {
     "name": "stdin",
     "output_type": "stream",
     "text": [
      " 5\n"
     ]
    },
    {
     "name": "stdout",
     "output_type": "stream",
     "text": [
      "6\n"
     ]
    }
   ],
   "source": [
    "# codeup 1078\n",
    "a = int(input())\n",
    "b = 1\n",
    "c = 0\n",
    "while b <= a:\n",
    "    if b % 2 == 0:\n",
    "        c = c + b\n",
    "    b = b+1\n",
    "print(c)    "
   ]
  },
  {
   "cell_type": "code",
   "execution_count": 44,
   "metadata": {},
   "outputs": [
    {
     "name": "stdin",
     "output_type": "stream",
     "text": [
      " a b c q a\n"
     ]
    },
    {
     "name": "stdout",
     "output_type": "stream",
     "text": [
      "a\n",
      "b\n",
      "c\n",
      "q\n"
     ]
    }
   ],
   "source": [
    "# codeup 1079\n",
    "a = input().split()\n",
    "for i in a:\n",
    "    print(i)\n",
    "    if i == 'q':\n",
    "        break"
   ]
  },
  {
   "cell_type": "code",
   "execution_count": 45,
   "metadata": {},
   "outputs": [
    {
     "name": "stdin",
     "output_type": "stream",
     "text": [
      " 55\n"
     ]
    },
    {
     "name": "stdout",
     "output_type": "stream",
     "text": [
      "10\n"
     ]
    }
   ],
   "source": [
    "# codeup 1080\n",
    "a = int(input())\n",
    "b = 0\n",
    "for i in range(a):\n",
    "    b = b + i\n",
    "    if b >= a:\n",
    "        print(i)\n",
    "        break"
   ]
  },
  {
   "cell_type": "code",
   "execution_count": null,
   "metadata": {},
   "outputs": [],
   "source": []
  }
 ],
 "metadata": {
  "kernelspec": {
   "display_name": "Python 3",
   "language": "python",
   "name": "python3"
  },
  "language_info": {
   "codemirror_mode": {
    "name": "ipython",
    "version": 3
   },
   "file_extension": ".py",
   "mimetype": "text/x-python",
   "name": "python",
   "nbconvert_exporter": "python",
   "pygments_lexer": "ipython3",
   "version": "3.7.3"
  }
 },
 "nbformat": 4,
 "nbformat_minor": 2
}
