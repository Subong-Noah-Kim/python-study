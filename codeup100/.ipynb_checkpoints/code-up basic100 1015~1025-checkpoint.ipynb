{
 "cells": [
  {
   "cell_type": "code",
   "execution_count": 17,
   "metadata": {},
   "outputs": [
    {
     "name": "stdin",
     "output_type": "stream",
     "text": [
      " 1.59254\n"
     ]
    },
    {
     "data": {
      "text/plain": [
       "'1.59'"
      ]
     },
     "execution_count": 17,
     "metadata": {},
     "output_type": "execute_result"
    }
   ],
   "source": [
    "# code-up 1015\n",
    "a = float(input())\n",
    "'{:,.2f}'.format(a)"
   ]
  },
  {
   "cell_type": "code",
   "execution_count": 18,
   "metadata": {},
   "outputs": [
    {
     "name": "stdin",
     "output_type": "stream",
     "text": [
      " 125\n"
     ]
    },
    {
     "name": "stdout",
     "output_type": "stream",
     "text": [
      "125 125 125\n"
     ]
    }
   ],
   "source": [
    "# code-up 1017\n",
    "a = int(input())\n",
    "print(a, a, a)"
   ]
  },
  {
   "cell_type": "code",
   "execution_count": 40,
   "metadata": {},
   "outputs": [
    {
     "name": "stdin",
     "output_type": "stream",
     "text": [
      " 0099.01.01\n"
     ]
    },
    {
     "name": "stdout",
     "output_type": "stream",
     "text": [
      "0099.01.01\n"
     ]
    }
   ],
   "source": [
    "# code-up 1019\n",
    "a = input()\n",
    "b = a.split(\".\")\n",
    "print( '%04d' % int(b[0]),\".\", '%02d' % int(b[1]),\".\", '%02d' % int(b[2]) , sep=\"\")"
   ]
  },
  {
   "cell_type": "code",
   "execution_count": 43,
   "metadata": {},
   "outputs": [
    {
     "name": "stdin",
     "output_type": "stream",
     "text": [
      " 123456-1234567\n"
     ]
    },
    {
     "name": "stdout",
     "output_type": "stream",
     "text": [
      "1234561234567\n"
     ]
    }
   ],
   "source": [
    "# code-up 1020\n",
    "a = input().split(\"-\")\n",
    "print(a[0],a[1], sep=\"\")"
   ]
  },
  {
   "cell_type": "code",
   "execution_count": 57,
   "metadata": {},
   "outputs": [
    {
     "name": "stdin",
     "output_type": "stream",
     "text": [
      " 1.09\n"
     ]
    },
    {
     "name": "stdout",
     "output_type": "stream",
     "text": [
      "1\n",
      "0.09\n"
     ]
    }
   ],
   "source": [
    "# code-up 1023\n",
    "a = float(input())\n",
    "b = round(a-int(a),6) \n",
    "print(int(a), '\\n', b, sep=\"\")"
   ]
  },
  {
   "cell_type": "code",
   "execution_count": 61,
   "metadata": {},
   "outputs": [
    {
     "name": "stdin",
     "output_type": "stream",
     "text": [
      " 1.414213\n"
     ]
    },
    {
     "name": "stdout",
     "output_type": "stream",
     "text": [
      "1\n",
      "414213\n"
     ]
    }
   ],
   "source": [
    "# code-up 1023\n",
    "a, b = input().split('.')\n",
    "print(a, '\\n', b, sep=\"\")\n"
   ]
  },
  {
   "cell_type": "code",
   "execution_count": 67,
   "metadata": {},
   "outputs": [
    {
     "name": "stdin",
     "output_type": "stream",
     "text": [
      " Boy\n"
     ]
    },
    {
     "name": "stdout",
     "output_type": "stream",
     "text": [
      "'B'\n",
      "'o'\n",
      "'y'\n"
     ]
    }
   ],
   "source": [
    "# code-up 1024\n",
    "a = input()\n",
    "b = len(a)\n",
    "for i in range(0,b):\n",
    "    print(\"'\",a[i],\"'\", sep=\"\")"
   ]
  },
  {
   "cell_type": "code",
   "execution_count": 101,
   "metadata": {},
   "outputs": [
    {
     "name": "stdin",
     "output_type": "stream",
     "text": [
      " 12345\n"
     ]
    },
    {
     "name": "stdout",
     "output_type": "stream",
     "text": [
      "[10000]\n",
      "[2000]\n",
      "[300]\n",
      "[40]\n",
      "[5]\n"
     ]
    }
   ],
   "source": [
    "# code-up 1025\n",
    "a = input()\n",
    "for i in range(0,5):\n",
    "    print(\"[\",int(a[i])* (10**(4-i)),\"]\",sep=\"\" )"
   ]
  },
  {
   "cell_type": "code",
   "execution_count": 87,
   "metadata": {},
   "outputs": [
    {
     "data": {
      "text/plain": [
       "range(0, 4)"
      ]
     },
     "execution_count": 87,
     "metadata": {},
     "output_type": "execute_result"
    }
   ],
   "source": []
  },
  {
   "cell_type": "code",
   "execution_count": null,
   "metadata": {},
   "outputs": [],
   "source": []
  }
 ],
 "metadata": {
  "kernelspec": {
   "display_name": "Python 3",
   "language": "python",
   "name": "python3"
  },
  "language_info": {
   "codemirror_mode": {
    "name": "ipython",
    "version": 3
   },
   "file_extension": ".py",
   "mimetype": "text/x-python",
   "name": "python",
   "nbconvert_exporter": "python",
   "pygments_lexer": "ipython3",
   "version": "3.7.3"
  }
 },
 "nbformat": 4,
 "nbformat_minor": 2
}
